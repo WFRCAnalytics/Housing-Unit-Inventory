{
 "cells": [
  {
   "cell_type": "code",
   "execution_count": 1,
   "metadata": {
    "ExecuteTime": {
     "end_time": "2021-09-03T22:27:17.069392Z",
     "start_time": "2021-09-03T22:27:09.294564Z"
    }
   },
   "outputs": [],
   "source": [
    "import arcpy\n",
    "from datetime import datetime\n",
    "import os\n",
    "import pandas as pd\n",
    "from arcgis import GIS\n",
    "import numpy as np\n",
    "from arcgis.features import GeoAccessor, GeoSeriesAccessor\n",
    "arcpy.env.overwriteOutput = True\n",
    "\n",
    "# show all columns\n",
    "pd.options.display.max_columns = None\n",
    "\n",
    "# pd.DataFrame.spatial.from_featureclass(???)\n",
    "# df.spatial.to_featureclass(location=???,sanitize_columns=False)"
   ]
  },
  {
   "cell_type": "code",
   "execution_count": 2,
   "metadata": {
    "ExecuteTime": {
     "end_time": "2021-09-03T22:27:17.085275Z",
     "start_time": "2021-09-03T22:27:17.070377Z"
    }
   },
   "outputs": [],
   "source": [
    "# path output folder\n",
    "outputs = '.\\\\Outputs'"
   ]
  },
  {
   "cell_type": "markdown",
   "metadata": {},
   "source": [
    "## Stack Units"
   ]
  },
  {
   "cell_type": "code",
   "execution_count": 3,
   "metadata": {
    "ExecuteTime": {
     "end_time": "2021-09-03T22:27:17.865218Z",
     "start_time": "2021-09-03T22:27:17.087270Z"
    }
   },
   "outputs": [
    {
     "name": "stderr",
     "output_type": "stream",
     "text": [
      "C:\\Users\\jreynolds\\AppData\\Local\\ESRI\\conda\\envs\\arcgispro-py3-clone\\lib\\site-packages\\IPython\\core\\interactiveshell.py:3166: DtypeWarning: Columns (4) have mixed types.Specify dtype option on import or set low_memory=False.\n",
      "  interactivity=interactivity, compiler=compiler, result=result)\n"
     ]
    }
   ],
   "source": [
    "d = pd.read_csv(r'.\\2020-Davis\\Outputs\\davis_housing_unit_inventory.csv')\n",
    "s = pd.read_csv(r'.\\2020-SaltLake\\Outputs\\salt_lake_housing_unit_inventory.csv')\n",
    "w = pd.read_csv(r'.\\2020-Weber\\Outputs\\weber_housing_unit_inventory.csv')"
   ]
  },
  {
   "cell_type": "code",
   "execution_count": 4,
   "metadata": {
    "ExecuteTime": {
     "end_time": "2021-09-03T22:27:20.740467Z",
     "start_time": "2021-09-03T22:27:17.866216Z"
    }
   },
   "outputs": [],
   "source": [
    "# stack em\n",
    "wfrc_units = pd.concat([d,w,s])\n",
    "\n",
    "# generate unique building id\n",
    "wfrc_units['unit_id'] = wfrc_units.index + 1\n",
    "\n",
    "# Export\n",
    "wfrc_units.to_csv(os.path.join(outputs, 'wfrc_housing_unit_inventory.csv'), index=False)"
   ]
  },
  {
   "cell_type": "code",
   "execution_count": 5,
   "metadata": {
    "ExecuteTime": {
     "end_time": "2021-09-03T22:27:20.771777Z",
     "start_time": "2021-09-03T22:27:20.744462Z"
    }
   },
   "outputs": [],
   "source": [
    "del d\n",
    "del s\n",
    "del w\n",
    "del wfrc_units"
   ]
  },
  {
   "cell_type": "markdown",
   "metadata": {},
   "source": [
    "## Stack Units (w/ Shape)"
   ]
  },
  {
   "cell_type": "code",
   "execution_count": 6,
   "metadata": {
    "ExecuteTime": {
     "end_time": "2021-09-03T22:27:55.315403Z",
     "start_time": "2021-09-03T22:27:20.772727Z"
    }
   },
   "outputs": [],
   "source": [
    "ds = pd.DataFrame.spatial.from_featureclass(r'.\\2020-Davis\\Outputs\\classes_HUI.gdb\\_04_davis_housing_unit_inventory')\n",
    "ss = pd.DataFrame.spatial.from_featureclass(r'.\\2020-SaltLake\\Outputs\\classes_HUI.gdb\\_04_salt_lake_housing_unit_inventory')\n",
    "ws = pd.DataFrame.spatial.from_featureclass(r'.\\2020-Weber\\Outputs\\classes_HUI.gdb\\_04_weber_housing_unit_inventory')"
   ]
  },
  {
   "cell_type": "code",
   "execution_count": 7,
   "metadata": {
    "ExecuteTime": {
     "end_time": "2021-09-03T22:34:45.477823Z",
     "start_time": "2021-09-03T22:27:55.316401Z"
    },
    "scrolled": true
   },
   "outputs": [
    {
     "data": {
      "text/plain": [
       "'E:\\\\Projects\\\\Housing-Unit-Inventory\\\\Outputs\\\\wfrc_housing_unit_inventory_20210903.gdb\\\\wfrc_housing_unit_inventory'"
      ]
     },
     "execution_count": 7,
     "metadata": {},
     "output_type": "execute_result"
    }
   ],
   "source": [
    "# stack em\n",
    "wfrc_units_shape = pd.concat([ds,ws,ss])\n",
    "\n",
    "# generate unique building id\n",
    "wfrc_units_shape['unit_id'] = wfrc_units_shape.index + 1\n",
    "\n",
    "# create output gdb\n",
    "date = datetime.today().strftime('%Y%m%d')\n",
    "gdb = os.path.join(outputs, \"wfrc_housing_unit_inventory_{}.gdb\".format(date))\n",
    "if not arcpy.Exists(gdb):\n",
    "    arcpy.CreateFileGDB_management(outputs, \"wfrc_housing_unit_inventory_{}.gdb\".format(date))\n",
    "    \n",
    "wfrc_units_shape.spatial.to_featureclass(location=os.path.join(gdb, 'wfrc_housing_unit_inventory'),sanitize_columns=False)"
   ]
  },
  {
   "cell_type": "code",
   "execution_count": 8,
   "metadata": {
    "ExecuteTime": {
     "end_time": "2021-09-03T22:35:07.479470Z",
     "start_time": "2021-09-03T22:34:45.478847Z"
    }
   },
   "outputs": [
    {
     "data": {
      "text/html": [
       "<h2>Output</h2>.\\Outputs\\wfrc_housing_unit_inventory_20210903.gdb\\wfrc_housing_unit_inventory_pts<h2>Messages</h2>Start Time: Friday, September 3, 2021 5:26:29 PM<br/>Succeeded at Friday, September 3, 2021 5:26:49 PM (Elapsed Time: 19.89 seconds)<br/><style>.rendered_html td, .rendered_html th {text-align: left;}.rendered_html tbody {border: 1px solid black;}</style>"
      ],
      "text/plain": [
       "<Result '.\\\\Outputs\\\\wfrc_housing_unit_inventory_20210903.gdb\\\\wfrc_housing_unit_inventory_pts'>"
      ]
     },
     "execution_count": 8,
     "metadata": {},
     "output_type": "execute_result"
    }
   ],
   "source": [
    "# convert to points\n",
    "arcpy.FeatureToPoint_management(os.path.join(gdb, 'wfrc_housing_unit_inventory'), \n",
    "                                os.path.join(gdb, 'wfrc_housing_unit_inventory_pts'), \n",
    "                                \"INSIDE\")"
   ]
  },
  {
   "cell_type": "code",
   "execution_count": 9,
   "metadata": {
    "ExecuteTime": {
     "end_time": "2021-09-03T22:35:07.494314Z",
     "start_time": "2021-09-03T22:35:07.481465Z"
    }
   },
   "outputs": [],
   "source": [
    "del ds\n",
    "del ss\n",
    "del ws\n",
    "del wfrc_units_shape"
   ]
  }
 ],
 "metadata": {
  "kernelspec": {
   "display_name": "Python 3",
   "language": "python",
   "name": "python3"
  },
  "language_info": {
   "codemirror_mode": {
    "name": "ipython",
    "version": 3
   },
   "file_extension": ".py",
   "mimetype": "text/x-python",
   "name": "python",
   "nbconvert_exporter": "python",
   "pygments_lexer": "ipython3",
   "version": "3.7.10"
  },
  "varInspector": {
   "cols": {
    "lenName": 16,
    "lenType": 16,
    "lenVar": 40
   },
   "kernels_config": {
    "python": {
     "delete_cmd_postfix": "",
     "delete_cmd_prefix": "del ",
     "library": "var_list.py",
     "varRefreshCmd": "print(var_dic_list())"
    },
    "r": {
     "delete_cmd_postfix": ") ",
     "delete_cmd_prefix": "rm(",
     "library": "var_list.r",
     "varRefreshCmd": "cat(var_dic_list()) "
    }
   },
   "types_to_exclude": [
    "module",
    "function",
    "builtin_function_or_method",
    "instance",
    "_Feature"
   ],
   "window_display": false
  }
 },
 "nbformat": 4,
 "nbformat_minor": 4
}

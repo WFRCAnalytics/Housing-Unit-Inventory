{
 "cells": [
  {
   "cell_type": "markdown",
   "metadata": {},
   "source": [
    "# Update attributes on reviewed parcels"
   ]
  },
  {
   "cell_type": "code",
   "execution_count": 1,
   "metadata": {},
   "outputs": [],
   "source": [
    "import arcpy\n",
    "from datetime import datetime\n",
    "import os\n",
    "import pandas as pd\n",
    "from arcgis import GIS\n",
    "import numpy as np\n",
    "from arcgis.features import GeoAccessor, GeoSeriesAccessor\n",
    "arcpy.env.overwriteOutput = True\n",
    "\n",
    "# show all columns\n",
    "pd.options.display.max_columns = None\n",
    "\n",
    "# pd.DataFrame.spatial.from_featureclass(???)\n",
    "# df.spatial.to_featureclass(location=???,sanitize_columns=False)"
   ]
  },
  {
   "cell_type": "code",
   "execution_count": 2,
   "metadata": {},
   "outputs": [],
   "source": [
    "# path output folder\n",
    "outputs = '.\\\\Outputs'"
   ]
  },
  {
   "cell_type": "code",
   "execution_count": 3,
   "metadata": {},
   "outputs": [],
   "source": [
    "# create output gdb\n",
    "outputs = '.\\\\Outputs'\n",
    "gdb = os.path.join(outputs, \"wfrc_hui_20211203.gdb\")\n",
    "if not arcpy.Exists(gdb):\n",
    "    arcpy.CreateFileGDB_management(outputs, \"wfrc_hui_20211203.gdb\")\n",
    "    \n",
    "scratch = os.path.join(outputs, \"scratch_rp.gdb\")\n",
    "if not arcpy.Exists(scratch):\n",
    "    arcpy.CreateFileGDB_management(outputs, \"scratch_rp.gdb\")"
   ]
  },
  {
   "cell_type": "code",
   "execution_count": 4,
   "metadata": {},
   "outputs": [
    {
     "data": {
      "text/plain": [
       "(391718, 22)"
      ]
     },
     "execution_count": 4,
     "metadata": {},
     "output_type": "execute_result"
    }
   ],
   "source": [
    "# load data\n",
    "hui = r\".\\Current_Version\\wfrc_hui_20211110.gdb\\wfrc_hui_20211101\"\n",
    "hui_sdf = pd.DataFrame.spatial.from_featureclass(hui)\n",
    "hui_sdf.shape"
   ]
  },
  {
   "cell_type": "code",
   "execution_count": 5,
   "metadata": {},
   "outputs": [
    {
     "data": {
      "text/plain": [
       "Index(['OBJECTID', 'PARCEL_ID', 'TYPE_WFRC', 'SUBTYPE_WFRC', 'NOTE', 'IS_OUG',\n",
       "       'CITY', 'COUNTY', 'SUBCOUNTY', 'HOUSE_CNT', 'ADDR_CNT', 'UNIT_COUNT',\n",
       "       'PARCEL_COUNT', 'DUA', 'FLOORS_CNT', 'PARCEL_ACRES', 'BLDG_SQFT',\n",
       "       'TOTAL_MKT_VALUE', 'BUILT_YR', 'BUILT_DECADE', 'UNIT_ID', 'SHAPE'],\n",
       "      dtype='object')"
      ]
     },
     "execution_count": 5,
     "metadata": {},
     "output_type": "execute_result"
    }
   ],
   "source": [
    "hui_sdf.columns"
   ]
  },
  {
   "cell_type": "code",
   "execution_count": 6,
   "metadata": {},
   "outputs": [
    {
     "data": {
      "text/html": [
       "<div>\n",
       "<style scoped>\n",
       "    .dataframe tbody tr th:only-of-type {\n",
       "        vertical-align: middle;\n",
       "    }\n",
       "\n",
       "    .dataframe tbody tr th {\n",
       "        vertical-align: top;\n",
       "    }\n",
       "\n",
       "    .dataframe thead th {\n",
       "        text-align: right;\n",
       "    }\n",
       "</style>\n",
       "<table border=\"1\" class=\"dataframe\">\n",
       "  <thead>\n",
       "    <tr style=\"text-align: right;\">\n",
       "      <th></th>\n",
       "      <th>OBJECTID</th>\n",
       "      <th>PARCEL_ID</th>\n",
       "      <th>TYPE_WFRC</th>\n",
       "      <th>SUBTYPE_WFRC</th>\n",
       "      <th>NOTE</th>\n",
       "      <th>IS_OUG</th>\n",
       "      <th>CITY</th>\n",
       "      <th>COUNTY</th>\n",
       "      <th>SUBCOUNTY</th>\n",
       "      <th>HOUSE_CNT</th>\n",
       "      <th>ADDR_CNT</th>\n",
       "      <th>UNIT_COUNT</th>\n",
       "      <th>PARCEL_COUNT</th>\n",
       "      <th>DUA</th>\n",
       "      <th>FLOORS_CNT</th>\n",
       "      <th>PARCEL_ACRES</th>\n",
       "      <th>BLDG_SQFT</th>\n",
       "      <th>TOTAL_MKT_VALUE</th>\n",
       "      <th>BUILT_YR</th>\n",
       "      <th>BUILT_DECADE</th>\n",
       "      <th>UNIT_ID</th>\n",
       "      <th>SHAPE</th>\n",
       "    </tr>\n",
       "  </thead>\n",
       "  <tbody>\n",
       "    <tr>\n",
       "      <th>0</th>\n",
       "      <td>1</td>\n",
       "      <td>061900003</td>\n",
       "      <td>single_family</td>\n",
       "      <td>pud</td>\n",
       "      <td>['2 Story']</td>\n",
       "      <td>1</td>\n",
       "      <td>Woods Cross</td>\n",
       "      <td>DAVIS</td>\n",
       "      <td>South Davis County</td>\n",
       "      <td>18.0</td>\n",
       "      <td>18.0</td>\n",
       "      <td>18.0</td>\n",
       "      <td>20</td>\n",
       "      <td>9.339</td>\n",
       "      <td>2.0</td>\n",
       "      <td>1.927313</td>\n",
       "      <td>26873.0</td>\n",
       "      <td>4935167.0</td>\n",
       "      <td>2002.0</td>\n",
       "      <td>2000's</td>\n",
       "      <td>1</td>\n",
       "      <td>{\"rings\": [[[423773.07830000017, 4525135.77140...</td>\n",
       "    </tr>\n",
       "    <tr>\n",
       "      <th>1</th>\n",
       "      <td>2</td>\n",
       "      <td>020950031</td>\n",
       "      <td>single_family</td>\n",
       "      <td>pud</td>\n",
       "      <td>[nan]</td>\n",
       "      <td>1</td>\n",
       "      <td>Centerville</td>\n",
       "      <td>DAVIS</td>\n",
       "      <td>South Davis County</td>\n",
       "      <td>23.0</td>\n",
       "      <td>34.0</td>\n",
       "      <td>34.0</td>\n",
       "      <td>29</td>\n",
       "      <td>5.609</td>\n",
       "      <td>1.0</td>\n",
       "      <td>6.061556</td>\n",
       "      <td>47226.0</td>\n",
       "      <td>10518205.0</td>\n",
       "      <td>2007.0</td>\n",
       "      <td>2000's</td>\n",
       "      <td>2</td>\n",
       "      <td>{\"rings\": [[[425646.91280000005, 4531251.53360...</td>\n",
       "    </tr>\n",
       "    <tr>\n",
       "      <th>2</th>\n",
       "      <td>3</td>\n",
       "      <td>022070001</td>\n",
       "      <td>single_family</td>\n",
       "      <td>pud</td>\n",
       "      <td>['2 Story']</td>\n",
       "      <td>1</td>\n",
       "      <td>Centerville</td>\n",
       "      <td>DAVIS</td>\n",
       "      <td>South Davis County</td>\n",
       "      <td>34.0</td>\n",
       "      <td>40.0</td>\n",
       "      <td>40.0</td>\n",
       "      <td>35</td>\n",
       "      <td>9.383</td>\n",
       "      <td>2.0</td>\n",
       "      <td>4.263039</td>\n",
       "      <td>52295.0</td>\n",
       "      <td>9844160.0</td>\n",
       "      <td>2007.0</td>\n",
       "      <td>2000's</td>\n",
       "      <td>3</td>\n",
       "      <td>{\"rings\": [[[425148.5184000004, 4531276.3881],...</td>\n",
       "    </tr>\n",
       "    <tr>\n",
       "      <th>3</th>\n",
       "      <td>4</td>\n",
       "      <td>070700037</td>\n",
       "      <td>single_family</td>\n",
       "      <td>pud</td>\n",
       "      <td>[nan]</td>\n",
       "      <td>1</td>\n",
       "      <td>Centerville</td>\n",
       "      <td>DAVIS</td>\n",
       "      <td>South Davis County</td>\n",
       "      <td>29.0</td>\n",
       "      <td>29.0</td>\n",
       "      <td>29.0</td>\n",
       "      <td>35</td>\n",
       "      <td>4.463</td>\n",
       "      <td>1.0</td>\n",
       "      <td>6.497216</td>\n",
       "      <td>55105.0</td>\n",
       "      <td>12752774.0</td>\n",
       "      <td>2016.0</td>\n",
       "      <td>2010's</td>\n",
       "      <td>4</td>\n",
       "      <td>{\"rings\": [[[425027.1202999996, 4533826.8158],...</td>\n",
       "    </tr>\n",
       "    <tr>\n",
       "      <th>4</th>\n",
       "      <td>5</td>\n",
       "      <td>072580201</td>\n",
       "      <td>single_family</td>\n",
       "      <td>pud</td>\n",
       "      <td>['Ranch 1 Story']</td>\n",
       "      <td>1</td>\n",
       "      <td>Farmington</td>\n",
       "      <td>DAVIS</td>\n",
       "      <td>South Davis County</td>\n",
       "      <td>12.0</td>\n",
       "      <td>24.0</td>\n",
       "      <td>24.0</td>\n",
       "      <td>15</td>\n",
       "      <td>6.170</td>\n",
       "      <td>1.0</td>\n",
       "      <td>3.890075</td>\n",
       "      <td>19183.0</td>\n",
       "      <td>4691610.0</td>\n",
       "      <td>2011.0</td>\n",
       "      <td>2010's</td>\n",
       "      <td>5</td>\n",
       "      <td>{\"rings\": [[[425194.6507000001, 4535684.547900...</td>\n",
       "    </tr>\n",
       "  </tbody>\n",
       "</table>\n",
       "</div>"
      ],
      "text/plain": [
       "   OBJECTID  PARCEL_ID      TYPE_WFRC SUBTYPE_WFRC               NOTE IS_OUG  \\\n",
       "0         1  061900003  single_family          pud        ['2 Story']      1   \n",
       "1         2  020950031  single_family          pud              [nan]      1   \n",
       "2         3  022070001  single_family          pud        ['2 Story']      1   \n",
       "3         4  070700037  single_family          pud              [nan]      1   \n",
       "4         5  072580201  single_family          pud  ['Ranch 1 Story']      1   \n",
       "\n",
       "          CITY COUNTY           SUBCOUNTY  HOUSE_CNT  ADDR_CNT  UNIT_COUNT  \\\n",
       "0  Woods Cross  DAVIS  South Davis County       18.0      18.0        18.0   \n",
       "1  Centerville  DAVIS  South Davis County       23.0      34.0        34.0   \n",
       "2  Centerville  DAVIS  South Davis County       34.0      40.0        40.0   \n",
       "3  Centerville  DAVIS  South Davis County       29.0      29.0        29.0   \n",
       "4   Farmington  DAVIS  South Davis County       12.0      24.0        24.0   \n",
       "\n",
       "  PARCEL_COUNT    DUA  FLOORS_CNT  PARCEL_ACRES  BLDG_SQFT  TOTAL_MKT_VALUE  \\\n",
       "0           20  9.339         2.0      1.927313    26873.0        4935167.0   \n",
       "1           29  5.609         1.0      6.061556    47226.0       10518205.0   \n",
       "2           35  9.383         2.0      4.263039    52295.0        9844160.0   \n",
       "3           35  4.463         1.0      6.497216    55105.0       12752774.0   \n",
       "4           15  6.170         1.0      3.890075    19183.0        4691610.0   \n",
       "\n",
       "   BUILT_YR BUILT_DECADE  UNIT_ID  \\\n",
       "0    2002.0       2000's        1   \n",
       "1    2007.0       2000's        2   \n",
       "2    2007.0       2000's        3   \n",
       "3    2016.0       2010's        4   \n",
       "4    2011.0       2010's        5   \n",
       "\n",
       "                                               SHAPE  \n",
       "0  {\"rings\": [[[423773.07830000017, 4525135.77140...  \n",
       "1  {\"rings\": [[[425646.91280000005, 4531251.53360...  \n",
       "2  {\"rings\": [[[425148.5184000004, 4531276.3881],...  \n",
       "3  {\"rings\": [[[425027.1202999996, 4533826.8158],...  \n",
       "4  {\"rings\": [[[425194.6507000001, 4535684.547900...  "
      ]
     },
     "execution_count": 6,
     "metadata": {},
     "output_type": "execute_result"
    }
   ],
   "source": [
    "hui_sdf.head(5)"
   ]
  },
  {
   "cell_type": "code",
   "execution_count": 7,
   "metadata": {},
   "outputs": [],
   "source": [
    "# drop parcel id and parcel count\n",
    "del hui_sdf['PARCEL_ID']\n",
    "del hui_sdf['PARCEL_COUNT']"
   ]
  },
  {
   "cell_type": "code",
   "execution_count": 8,
   "metadata": {},
   "outputs": [
    {
     "data": {
      "text/html": [
       "<div>\n",
       "<style scoped>\n",
       "    .dataframe tbody tr th:only-of-type {\n",
       "        vertical-align: middle;\n",
       "    }\n",
       "\n",
       "    .dataframe tbody tr th {\n",
       "        vertical-align: top;\n",
       "    }\n",
       "\n",
       "    .dataframe thead th {\n",
       "        text-align: right;\n",
       "    }\n",
       "</style>\n",
       "<table border=\"1\" class=\"dataframe\">\n",
       "  <thead>\n",
       "    <tr style=\"text-align: right;\">\n",
       "      <th></th>\n",
       "      <th>OBJECTID</th>\n",
       "      <th>TYPE_WFRC</th>\n",
       "      <th>SUBTYPE_WFRC</th>\n",
       "      <th>NOTE</th>\n",
       "      <th>IS_OUG</th>\n",
       "      <th>CITY</th>\n",
       "      <th>COUNTY</th>\n",
       "      <th>SUBCOUNTY</th>\n",
       "      <th>HOUSE_CNT</th>\n",
       "      <th>ADDR_CNT</th>\n",
       "      <th>UNIT_COUNT</th>\n",
       "      <th>DUA</th>\n",
       "      <th>FLOORS_CNT</th>\n",
       "      <th>PARCEL_ACRES</th>\n",
       "      <th>BLDG_SQFT</th>\n",
       "      <th>TOTAL_MKT_VALUE</th>\n",
       "      <th>BUILT_YR</th>\n",
       "      <th>BUILT_DECADE</th>\n",
       "      <th>UNIT_ID</th>\n",
       "      <th>SHAPE</th>\n",
       "    </tr>\n",
       "  </thead>\n",
       "  <tbody>\n",
       "    <tr>\n",
       "      <th>0</th>\n",
       "      <td>1</td>\n",
       "      <td>single_family</td>\n",
       "      <td>single_family</td>\n",
       "      <td>['2 Story'], PUD</td>\n",
       "      <td>1</td>\n",
       "      <td>Woods Cross</td>\n",
       "      <td>DAVIS</td>\n",
       "      <td>South Davis County</td>\n",
       "      <td>18.0</td>\n",
       "      <td>18.0</td>\n",
       "      <td>18.0</td>\n",
       "      <td>9.339</td>\n",
       "      <td>2.0</td>\n",
       "      <td>1.927313</td>\n",
       "      <td>26873.0</td>\n",
       "      <td>4935167.0</td>\n",
       "      <td>2002.0</td>\n",
       "      <td>2000's</td>\n",
       "      <td>1</td>\n",
       "      <td>{\"rings\": [[[423773.07830000017, 4525135.77140...</td>\n",
       "    </tr>\n",
       "    <tr>\n",
       "      <th>1</th>\n",
       "      <td>2</td>\n",
       "      <td>single_family</td>\n",
       "      <td>single_family</td>\n",
       "      <td>[nan], PUD</td>\n",
       "      <td>1</td>\n",
       "      <td>Centerville</td>\n",
       "      <td>DAVIS</td>\n",
       "      <td>South Davis County</td>\n",
       "      <td>23.0</td>\n",
       "      <td>34.0</td>\n",
       "      <td>34.0</td>\n",
       "      <td>5.609</td>\n",
       "      <td>1.0</td>\n",
       "      <td>6.061556</td>\n",
       "      <td>47226.0</td>\n",
       "      <td>10518205.0</td>\n",
       "      <td>2007.0</td>\n",
       "      <td>2000's</td>\n",
       "      <td>2</td>\n",
       "      <td>{\"rings\": [[[425646.91280000005, 4531251.53360...</td>\n",
       "    </tr>\n",
       "    <tr>\n",
       "      <th>2</th>\n",
       "      <td>3</td>\n",
       "      <td>single_family</td>\n",
       "      <td>single_family</td>\n",
       "      <td>['2 Story'], PUD</td>\n",
       "      <td>1</td>\n",
       "      <td>Centerville</td>\n",
       "      <td>DAVIS</td>\n",
       "      <td>South Davis County</td>\n",
       "      <td>34.0</td>\n",
       "      <td>40.0</td>\n",
       "      <td>40.0</td>\n",
       "      <td>9.383</td>\n",
       "      <td>2.0</td>\n",
       "      <td>4.263039</td>\n",
       "      <td>52295.0</td>\n",
       "      <td>9844160.0</td>\n",
       "      <td>2007.0</td>\n",
       "      <td>2000's</td>\n",
       "      <td>3</td>\n",
       "      <td>{\"rings\": [[[425148.5184000004, 4531276.3881],...</td>\n",
       "    </tr>\n",
       "    <tr>\n",
       "      <th>3</th>\n",
       "      <td>4</td>\n",
       "      <td>single_family</td>\n",
       "      <td>single_family</td>\n",
       "      <td>[nan], PUD</td>\n",
       "      <td>1</td>\n",
       "      <td>Centerville</td>\n",
       "      <td>DAVIS</td>\n",
       "      <td>South Davis County</td>\n",
       "      <td>29.0</td>\n",
       "      <td>29.0</td>\n",
       "      <td>29.0</td>\n",
       "      <td>4.463</td>\n",
       "      <td>1.0</td>\n",
       "      <td>6.497216</td>\n",
       "      <td>55105.0</td>\n",
       "      <td>12752774.0</td>\n",
       "      <td>2016.0</td>\n",
       "      <td>2010's</td>\n",
       "      <td>4</td>\n",
       "      <td>{\"rings\": [[[425027.1202999996, 4533826.8158],...</td>\n",
       "    </tr>\n",
       "    <tr>\n",
       "      <th>4</th>\n",
       "      <td>5</td>\n",
       "      <td>single_family</td>\n",
       "      <td>single_family</td>\n",
       "      <td>['Ranch 1 Story'], PUD</td>\n",
       "      <td>1</td>\n",
       "      <td>Farmington</td>\n",
       "      <td>DAVIS</td>\n",
       "      <td>South Davis County</td>\n",
       "      <td>12.0</td>\n",
       "      <td>24.0</td>\n",
       "      <td>24.0</td>\n",
       "      <td>6.170</td>\n",
       "      <td>1.0</td>\n",
       "      <td>3.890075</td>\n",
       "      <td>19183.0</td>\n",
       "      <td>4691610.0</td>\n",
       "      <td>2011.0</td>\n",
       "      <td>2010's</td>\n",
       "      <td>5</td>\n",
       "      <td>{\"rings\": [[[425194.6507000001, 4535684.547900...</td>\n",
       "    </tr>\n",
       "  </tbody>\n",
       "</table>\n",
       "</div>"
      ],
      "text/plain": [
       "   OBJECTID      TYPE_WFRC   SUBTYPE_WFRC                    NOTE IS_OUG  \\\n",
       "0         1  single_family  single_family        ['2 Story'], PUD      1   \n",
       "1         2  single_family  single_family              [nan], PUD      1   \n",
       "2         3  single_family  single_family        ['2 Story'], PUD      1   \n",
       "3         4  single_family  single_family              [nan], PUD      1   \n",
       "4         5  single_family  single_family  ['Ranch 1 Story'], PUD      1   \n",
       "\n",
       "          CITY COUNTY           SUBCOUNTY  HOUSE_CNT  ADDR_CNT  UNIT_COUNT  \\\n",
       "0  Woods Cross  DAVIS  South Davis County       18.0      18.0        18.0   \n",
       "1  Centerville  DAVIS  South Davis County       23.0      34.0        34.0   \n",
       "2  Centerville  DAVIS  South Davis County       34.0      40.0        40.0   \n",
       "3  Centerville  DAVIS  South Davis County       29.0      29.0        29.0   \n",
       "4   Farmington  DAVIS  South Davis County       12.0      24.0        24.0   \n",
       "\n",
       "     DUA  FLOORS_CNT  PARCEL_ACRES  BLDG_SQFT  TOTAL_MKT_VALUE  BUILT_YR  \\\n",
       "0  9.339         2.0      1.927313    26873.0        4935167.0    2002.0   \n",
       "1  5.609         1.0      6.061556    47226.0       10518205.0    2007.0   \n",
       "2  9.383         2.0      4.263039    52295.0        9844160.0    2007.0   \n",
       "3  4.463         1.0      6.497216    55105.0       12752774.0    2016.0   \n",
       "4  6.170         1.0      3.890075    19183.0        4691610.0    2011.0   \n",
       "\n",
       "  BUILT_DECADE  UNIT_ID                                              SHAPE  \n",
       "0       2000's        1  {\"rings\": [[[423773.07830000017, 4525135.77140...  \n",
       "1       2000's        2  {\"rings\": [[[425646.91280000005, 4531251.53360...  \n",
       "2       2000's        3  {\"rings\": [[[425148.5184000004, 4531276.3881],...  \n",
       "3       2010's        4  {\"rings\": [[[425027.1202999996, 4533826.8158],...  \n",
       "4       2010's        5  {\"rings\": [[[425194.6507000001, 4535684.547900...  "
      ]
     },
     "execution_count": 8,
     "metadata": {},
     "output_type": "execute_result"
    }
   ],
   "source": [
    "# add pud to note field and change to single family\n",
    "hui_sdf.loc[(hui_sdf['SUBTYPE_WFRC'] == 'pud'), 'NOTE'] = hui_sdf['NOTE'] + ', PUD'\n",
    "hui_sdf.loc[(hui_sdf['SUBTYPE_WFRC'] == 'pud'), 'SUBTYPE_WFRC'] = \"single_family\"\n",
    "hui_sdf.loc[(hui_sdf['SUBTYPE_WFRC'] == 'mixed th/pud'), 'SUBTYPE_WFRC'] = \"mixed th/single_family\"\n",
    "hui_sdf.head(5)"
   ]
  },
  {
   "cell_type": "code",
   "execution_count": 9,
   "metadata": {},
   "outputs": [],
   "source": [
    "hui_sdf_for_distribution = hui_sdf.copy()"
   ]
  },
  {
   "cell_type": "code",
   "execution_count": 10,
   "metadata": {},
   "outputs": [],
   "source": [
    "# drop \"wfrc\" from type attributes\n",
    "# rename parcel_acres to Acres\n",
    "hui_sdf_for_distribution.rename(columns={'TYPE_WFRC':'TYPE',\n",
    "                'SUBTYPE_WFRC':'SUBTYPE', \n",
    "                'PARCEL_ACRES':'ACRES',\n",
    "                'BLDG_SQFT':'TOT_BD_FT2',\n",
    "                'BUILT_YR':'APX_BLT_YR',\n",
    "                'FLOORS_CNT':'APX_HGHT',\n",
    "                'TOTAL_MKT_VALUE':'TOT_VALUE',\n",
    "                'BUILT_DECADE':'BLT_DECADE'}, inplace=True)"
   ]
  },
  {
   "cell_type": "code",
   "execution_count": 11,
   "metadata": {},
   "outputs": [
    {
     "data": {
      "text/plain": [
       "Index(['OBJECTID', 'TYPE_WFRC', 'SUBTYPE_WFRC', 'NOTE', 'IS_OUG', 'CITY',\n",
       "       'COUNTY', 'SUBCOUNTY', 'HOUSE_CNT', 'ADDR_CNT', 'UNIT_COUNT', 'DUA',\n",
       "       'FLOORS_CNT', 'PARCEL_ACRES', 'BLDG_SQFT', 'TOTAL_MKT_VALUE',\n",
       "       'BUILT_YR', 'BUILT_DECADE', 'UNIT_ID', 'SHAPE'],\n",
       "      dtype='object')"
      ]
     },
     "execution_count": 11,
     "metadata": {},
     "output_type": "execute_result"
    }
   ],
   "source": [
    "hui_sdf.columns"
   ]
  },
  {
   "cell_type": "code",
   "execution_count": 12,
   "metadata": {},
   "outputs": [
    {
     "data": {
      "text/plain": [
       "'E:\\\\Projects\\\\Housing-Unit-Inventory\\\\Outputs\\\\wfrc_hui_20211203.gdb\\\\wfrc_housing_unit_inventory_20211203'"
      ]
     },
     "execution_count": 12,
     "metadata": {},
     "output_type": "execute_result"
    }
   ],
   "source": [
    "# export to shape\n",
    "hui_sdf.spatial.to_featureclass(location=os.path.join(gdb, 'wfrc_housing_unit_inventory_dev_20211203'),sanitize_columns=False)\n",
    "hui_sdf_for_distribution.spatial.to_featureclass(location=os.path.join(gdb, 'wfrc_housing_unit_inventory_20211203'),sanitize_columns=False)"
   ]
  },
  {
   "cell_type": "raw",
   "metadata": {},
   "source": [
    "# regenerate unique building id\n",
    "hui_sdf['UNIT_ID'] = hui_sdf.index + 1"
   ]
  },
  {
   "cell_type": "raw",
   "metadata": {},
   "source": [
    "# update the floor counts\n",
    "hui_sdf.loc[(hui_sdf['FLOORS_CNT'] < 1) | (hui_sdf['FLOORS_CNT'].isnull() == True), 'FLOORS_CNT'] = 1\n",
    "hui_sdf['FLOORS_CNT'] = hui_sdf['FLOORS_CNT'].round()"
   ]
  },
  {
   "cell_type": "raw",
   "metadata": {},
   "source": [
    "# remove parcels with zero housing units and store them for later\n",
    "vacant = hui_sdf[hui_sdf['UNIT_COUNT'] == 0].copy()\n",
    "vacant.spatial.to_featureclass(location=os.path.join(scratch, 'vacant'),sanitize_columns=False)\n",
    "hui_sdf = hui_sdf[~(hui_sdf['UNIT_COUNT'] == 0)].copy()\n",
    "\n",
    "print(vacant.shape)\n",
    "print(hui_sdf.shape)"
   ]
  },
  {
   "cell_type": "raw",
   "metadata": {},
   "source": [
    "# remove parcels from other categories\n",
    "office = hui_sdf[hui_sdf['TYPE_WFRC'] == 'office'].copy()\n",
    "group_quarters = hui_sdf[hui_sdf['TYPE_WFRC'] == 'group_quarters'].copy()\n",
    "retail = hui_sdf[hui_sdf['TYPE_WFRC'] == 'retail'].copy()\n",
    "\n",
    "office.spatial.to_featureclass(location=os.path.join(scratch, 'office'),sanitize_columns=False)\n",
    "group_quarters.spatial.to_featureclass(location=os.path.join(scratch, 'group_quarters'),sanitize_columns=False)\n",
    "retail.spatial.to_featureclass(location=os.path.join(scratch, 'retail'),sanitize_columns=False)\n",
    "\n",
    "hui_sdf = hui_sdf[~(hui_sdf['TYPE_WFRC'] == 'office')].copy()\n",
    "hui_sdf = hui_sdf[~(hui_sdf['TYPE_WFRC'] == 'group_quarters')].copy()\n",
    "hui_sdf = hui_sdf[~(hui_sdf['TYPE_WFRC'] == 'retail')].copy()\n"
   ]
  },
  {
   "cell_type": "raw",
   "metadata": {},
   "source": [
    "# parcels that had duplicate addr pts\n",
    "parcels_duplicate_addr_pts = hui_sdf[(hui_sdf['ADJUSTED'].str.contains('Dupli') == True)|\n",
    "                                     (hui_sdf['ADJUSTED'].str.contains('dupli') == True)].copy()\n",
    "\n",
    "parcels_duplicate_addr_pts.spatial.to_featureclass(location=os.path.join(scratch, 'parcels_duplicate_addr_pts'),sanitize_columns=False)\n",
    "parcels_duplicate_addr_pts.shape"
   ]
  },
  {
   "cell_type": "raw",
   "metadata": {},
   "source": [
    "# set total market value to zero\n",
    "hui_sdf['TOTAL_MKT_VALUE'] = np.nan\n",
    "hui_sdf['BLDG_SQFT'] = np.nan\n",
    "\n",
    "hui_sdf.spatial.to_featureclass(location=os.path.join(scratch, 'wfrc_housing_unit_inventory_20211101_draft'),\n",
    "                                sanitize_columns=False)"
   ]
  },
  {
   "cell_type": "raw",
   "metadata": {},
   "source": [
    "# update attributes\n",
    "hui = os.path.join(scratch, 'wfrc_housing_unit_inventory_20211101_draft')\n",
    "\n",
    "# perform spatial join with within query and sum total market value\n",
    "weber_parcels = r'.\\2020-Weber\\Inputs\\Utah_weber_County_Parcels_LIR.gdb\\Parcels_Weber_LIR_UTM12'\n",
    "davis_parcels = r'.\\2020-Davis\\Inputs\\Davis_County_LIR_Parcels.gdb\\Parcels_Davis_LIR_UTM12'\n",
    "sl_parcels = r'.\\2020-SaltLake\\Inputs\\Utah_Salt_Lake_County_Parcels_LIR.gdb\\Parcels_SaltLake_LIR_UTM12'\n",
    "\n",
    "# merge all parcels for sj\n",
    "merged_parcels = arcpy.Merge_management([weber_parcels, davis_parcels, sl_parcels], os.path.join(scratch, 'merged_parcels'))\n",
    "\n",
    "merged_parcels_pts = arcpy.FeatureToPoint_management(merged_parcels, os.path.join(scratch, 'merged_parcels_pts'), \"INSIDE\")"
   ]
  },
  {
   "cell_type": "raw",
   "metadata": {},
   "source": [
    "# use spatial join to recalc market value and bldg sqft\n",
    "target_features = hui\n",
    "join_features = merged_parcels_pts\n",
    "output_features = os.path.join(scratch, \"hui_parcels_sj\")\n",
    "\n",
    "fieldmappings = arcpy.FieldMappings()\n",
    "fieldmappings.addTable(target_features)\n",
    "fieldmappings.addTable(join_features)\n",
    "\n",
    "# total market value\n",
    "fieldindex = fieldmappings.findFieldMapIndex('TOTAL_MKT_VALUE')\n",
    "fieldmap = fieldmappings.getFieldMap(fieldindex)\n",
    "fieldmap.mergeRule = 'Sum'\n",
    "fieldmappings.replaceFieldMap(fieldindex, fieldmap)\n",
    "\n",
    "# building square ft\n",
    "fieldindex = fieldmappings.findFieldMapIndex('BLDG_SQFT')\n",
    "fieldmap = fieldmappings.getFieldMap(fieldindex)\n",
    "fieldmap.mergeRule = 'Sum'\n",
    "fieldmappings.replaceFieldMap(fieldindex, fieldmap)\n",
    "\n",
    "# run the spatial join\n",
    "sj = arcpy.SpatialJoin_analysis(target_features, join_features, output_features,'JOIN_ONE_TO_ONE', \"KEEP_COMMON\", \n",
    "                           fieldmappings, \"INTERSECT\")"
   ]
  },
  {
   "cell_type": "raw",
   "metadata": {},
   "source": [
    "# load sj as sdf and format\n",
    "sj_sdf = pd.DataFrame.spatial.from_featureclass(sj)\n",
    "sj_sdf = sj_sdf[['UNIT_ID','TOTAL_MKT_VALUE','BLDG_SQFT']].copy()\n",
    "sj_sdf.columns = ['UNIT_ID','TOTAL_MKT_VALUE_NEW','BLDG_SQFT_NEW']\n",
    "sj_sdf.shape"
   ]
  },
  {
   "cell_type": "raw",
   "metadata": {},
   "source": [
    "# add geographies back\n",
    "cities = r'.\\Geographies\\Cities.shp'\n",
    "counties = r'.\\Geographies\\Counties.shp'\n",
    "subcounties = r'.\\Geographies\\SubCountyArea_2019.shp'\n",
    "\n",
    "geographies = [(counties,'COUNTY'),(subcounties, 'SUBCOUNTY'),(cities, 'CITY')]\n",
    "\n",
    "for geog in geographies:\n",
    "    \n",
    "    # use spatial join to summarize res units\n",
    "    target_features = hui\n",
    "    join_features = geog[0]\n",
    "    output_features = os.path.join(scratch, \"hui_{}\".format(geog[1]))\n",
    "\n",
    "    fieldmappings = arcpy.FieldMappings()\n",
    "    fieldmappings.addTable(target_features)\n",
    "    fieldmappings.addTable(join_features)\n",
    "\n",
    "    # run the spatial join\n",
    "    sj2 = arcpy.SpatialJoin_analysis(target_features, join_features, output_features,'JOIN_ONE_TO_ONE', \"KEEP_ALL\", \n",
    "                               fieldmappings, \"WITHIN\")\n",
    "    \n",
    "    sj2_sdf = pd.DataFrame.spatial.from_featureclass(sj2)\n",
    "    sj2_sdf = sj2_sdf[['UNIT_ID','NAME']].copy()\n",
    "    sj2_sdf.columns = ['UNIT_ID', geog[1]]\n",
    "    hui_sdf = hui_sdf.merge(sj2_sdf, left_on = 'UNIT_ID', right_on = 'UNIT_ID', how='left')"
   ]
  },
  {
   "cell_type": "raw",
   "metadata": {},
   "source": [
    "# bring back tmv and bldg sqft attributes\n",
    "new_hui = hui_sdf.merge(sj_sdf, left_on = 'UNIT_ID', right_on = 'UNIT_ID', how='left')\n",
    "new_hui['TOTAL_MKT_VALUE'] = new_hui['TOTAL_MKT_VALUE_NEW']\n",
    "new_hui['BLDG_SQFT'] = new_hui['BLDG_SQFT_NEW']\n",
    "\n",
    "del new_hui['TOTAL_MKT_VALUE_NEW']\n",
    "del new_hui['BLDG_SQFT_NEW']"
   ]
  },
  {
   "cell_type": "raw",
   "metadata": {},
   "source": [
    "# recalc built decade\n",
    "new_hui.loc[(new_hui['BUILT_YR'] >= 1840) & (new_hui['BUILT_YR'] < 1850), 'BUILT_DECADE'] = \"1840's\"\n",
    "new_hui.loc[(new_hui['BUILT_YR'] >= 1850) & (new_hui['BUILT_YR'] < 1860), 'BUILT_DECADE'] = \"1850's\"\n",
    "new_hui.loc[(new_hui['BUILT_YR'] >= 1860) & (new_hui['BUILT_YR'] < 1870), 'BUILT_DECADE'] = \"1860's\"\n",
    "new_hui.loc[(new_hui['BUILT_YR'] >= 1870) & (new_hui['BUILT_YR'] < 1880), 'BUILT_DECADE'] = \"1870's\"\n",
    "new_hui.loc[(new_hui['BUILT_YR'] >= 1880) & (new_hui['BUILT_YR'] < 1890), 'BUILT_DECADE'] = \"1880's\"\n",
    "new_hui.loc[(new_hui['BUILT_YR'] >= 1890) & (new_hui['BUILT_YR'] < 1900), 'BUILT_DECADE'] = \"1890's\"\n",
    "new_hui.loc[(new_hui['BUILT_YR'] >= 1900) & (new_hui['BUILT_YR'] < 1910), 'BUILT_DECADE'] = \"1900's\"\n",
    "new_hui.loc[(new_hui['BUILT_YR'] >= 1910) & (new_hui['BUILT_YR'] < 1920), 'BUILT_DECADE'] = \"1910's\"\n",
    "new_hui.loc[(new_hui['BUILT_YR'] >= 1920) & (new_hui['BUILT_YR'] < 1930), 'BUILT_DECADE'] = \"1920's\"\n",
    "new_hui.loc[(new_hui['BUILT_YR'] >= 1930) & (new_hui['BUILT_YR'] < 1940), 'BUILT_DECADE'] = \"1930's\"\n",
    "new_hui.loc[(new_hui['BUILT_YR'] >= 1940) & (new_hui['BUILT_YR'] < 1950), 'BUILT_DECADE'] = \"1940's\"\n",
    "new_hui.loc[(new_hui['BUILT_YR'] >= 1950) & (new_hui['BUILT_YR'] < 1960), 'BUILT_DECADE'] = \"1950's\"\n",
    "new_hui.loc[(new_hui['BUILT_YR'] >= 1960) & (new_hui['BUILT_YR'] < 1970), 'BUILT_DECADE'] = \"1960's\"\n",
    "new_hui.loc[(new_hui['BUILT_YR'] >= 1970) & (new_hui['BUILT_YR'] < 1980), 'BUILT_DECADE'] = \"1970's\"\n",
    "new_hui.loc[(new_hui['BUILT_YR'] >= 1980) & (new_hui['BUILT_YR'] < 1990), 'BUILT_DECADE'] = \"1980's\"\n",
    "new_hui.loc[(new_hui['BUILT_YR'] >= 1990) & (new_hui['BUILT_YR'] < 2000), 'BUILT_DECADE'] = \"1990's\"\n",
    "new_hui.loc[(new_hui['BUILT_YR'] >= 2000) & (new_hui['BUILT_YR'] < 2010), 'BUILT_DECADE'] = \"2000's\"\n",
    "new_hui.loc[(new_hui['BUILT_YR'] >= 2010) & (new_hui['BUILT_YR'] < 2020), 'BUILT_DECADE'] = \"2010's\"\n",
    "new_hui.loc[(new_hui['BUILT_YR'] >= 2020) & (new_hui['BUILT_YR'] < 2030), 'BUILT_DECADE'] = \"2020's\""
   ]
  },
  {
   "cell_type": "raw",
   "metadata": {},
   "source": [
    "new_hui = new_hui[[ 'PARCEL_ID', 'TYPE_WFRC', 'SUBTYPE_WFRC', 'NOTE', 'IS_OUG',\n",
    "       'CITY_x', 'COUNTY_x', 'SUBCOUNTY', 'HOUSE_CNT', 'ADDR_CNT',\n",
    "       'UNIT_COUNT', 'PARCEL_COUNT', 'DUA', 'FLOORS_CNT',\n",
    "       'PARCEL_ACRES', 'BLDG_SQFT', 'TOTAL_MKT_VALUE', 'BUILT_YR',\n",
    "       'BUILT_DECADE', 'UNIT_ID', 'SHAPE']].copy()\n",
    "\n",
    "new_hui = new_hui.rename(columns={'CITY_x': 'CITY'})\n",
    "new_hui = new_hui.rename(columns={'COUNTY_x': 'COUNTY'})"
   ]
  },
  {
   "cell_type": "raw",
   "metadata": {},
   "source": [
    "# recalc max dua\n",
    "new_hui['DUA'] = (new_hui['UNIT_COUNT'] / new_hui['PARCEL_ACRES']).round(3)"
   ]
  },
  {
   "cell_type": "raw",
   "metadata": {},
   "source": [
    "# export to shape\n",
    "new_hui.spatial.to_featureclass(location=os.path.join(gdb, 'wfrc_housing_unit_inventory_20211101'),sanitize_columns=False)"
   ]
  },
  {
   "cell_type": "raw",
   "metadata": {},
   "source": [
    "# # read in taz households\n",
    "# taz = r\".\\Outputs\\wfrc_hui_20211025.gdb\\taz_projections_hui_sj_wfrc\"\n",
    "# taz_sdf = pd.DataFrame.spatial.from_featureclass(taz)\n",
    "# taz_sdf.columns"
   ]
  },
  {
   "cell_type": "raw",
   "metadata": {},
   "source": [
    "# taz_sdf = taz_sdf[['CityArea', 'ModelArea', 'CO_TAZID', 'DEVACRES', 'CO_FIPS', 'CO_NAME', 'TAZID', 'RELEASE',\n",
    "#                    'YEAR2019','UNIT_COUNT', 'HUI', 'SHAPE']].copy()\n",
    "\n",
    "# taz_sdf = taz_sdf.rename(columns={\"YEAR2019\": \"REMM_2019\"})\n",
    "# taz_sdf = taz_sdf.rename(columns={\"UNIT_COUNT\": \"HUI_2019\"})\n",
    "\n",
    "\n",
    "# # positive indicates REMM overpredicted, negative REMM indicates underpredicted\n",
    "# taz_sdf['HH19_DIFF'] = taz_sdf['REMM_2019'] - taz_sdf['HUI_2019']\n",
    "# taz_sdf['HH19_PCT_DIFF'] = taz_sdf['HH19_DIFF'] / taz_sdf['HUI_2019'] * 100\n",
    "\n",
    "\n",
    "# taz_sdf.spatial.to_featureclass(location=os.path.join(gdb, 'remm_vs_hui_taz'),sanitize_columns=False)"
   ]
  },
  {
   "cell_type": "raw",
   "metadata": {},
   "source": [
    "# # summarize by city - positive indicates REMM overpredicted, negative REMM indicates underpredicted\n",
    "# city_summary = taz_sdf.groupby('CityArea')[[\"REMM_2019\",'HUI_2019']].sum().reset_index()\n",
    "# city_summary['HH19_DIFF'] = city_summary['REMM_2019'] - city_summary['HUI_2019']\n",
    "# city_summary['HH19_PCT_DIFF'] = city_summary['HH19_DIFF'] / city_summary['HUI_2019'] *100\n",
    "# city_summary.to_csv(os.path.join(outputs, 'hh_city_summary.csv'))"
   ]
  },
  {
   "cell_type": "raw",
   "metadata": {},
   "source": [
    "# # summarize by county - positive indicates REMM overpredicted, negative REMM indicates underpredicted\n",
    "# county_summary = taz_sdf.groupby('CO_NAME')[[\"REMM_2019\",'HUI_2019']].sum().reset_index()\n",
    "# county_summary['HH19_DIFF'] = county_summary['REMM_2019'] - county_summary['HUI_2019']\n",
    "# county_summary['HH19_PCT_DIFF'] = county_summary['HH19_DIFF'] / county_summary['HUI_2019'] * 100\n",
    "# county_summary.to_csv(os.path.join(outputs, 'hh_county_summary.csv'))"
   ]
  }
 ],
 "metadata": {
  "kernelspec": {
   "display_name": "Python 3",
   "language": "python",
   "name": "python3"
  },
  "language_info": {
   "codemirror_mode": {
    "name": "ipython",
    "version": 3
   },
   "file_extension": ".py",
   "mimetype": "text/x-python",
   "name": "python",
   "nbconvert_exporter": "python",
   "pygments_lexer": "ipython3",
   "version": "3.7.11"
  }
 },
 "nbformat": 4,
 "nbformat_minor": 4
}

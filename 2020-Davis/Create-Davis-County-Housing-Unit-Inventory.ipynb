{
 "cells": [
  {
   "cell_type": "markdown",
   "metadata": {},
   "source": [
    "### Requirements\n",
    "- Davis County LIR Parcels (2019)\n",
    "- Extended Parcel Descriptions for Davis County (2019)\n",
    "- TAZ Boundaries\n",
    "- Owned Unit Groupings Boundaries\n",
    "- Address points"
   ]
  },
  {
   "cell_type": "code",
   "execution_count": 6039,
   "metadata": {
    "ExecuteTime": {
     "end_time": "2021-09-03T18:53:26.525488Z",
     "start_time": "2021-09-03T18:53:19.242812Z"
    }
   },
   "outputs": [],
   "source": [
    "import arcpy\n",
    "import os\n",
    "import pandas as pd\n",
    "from arcgis import GIS\n",
    "import numpy as np\n",
    "from arcgis.features import GeoAccessor, GeoSeriesAccessor\n",
    "arcpy.env.overwriteOutput = True\n",
    "\n",
    "# show all columns\n",
    "pd.options.display.max_columns = None\n",
    "\n",
    "# pd.DataFrame.spatial.from_featureclass(???)\n",
    "# df.spatial.to_featureclass(location=???,sanitize_columns=False)"
   ]
  },
  {
   "cell_type": "markdown",
   "metadata": {},
   "source": [
    "## Inputs"
   ]
  },
  {
   "cell_type": "code",
   "execution_count": 7029,
   "metadata": {
    "ExecuteTime": {
     "end_time": "2021-09-03T18:53:26.540270Z",
     "start_time": "2021-09-03T18:53:26.526489Z"
    }
   },
   "outputs": [],
   "source": [
    "taz_shp = '.\\\\Inputs\\\\TAZ.shp'\n",
    "parcels = '.\\\\Inputs\\\\Davis_County_LIR_Parcels.gdb\\\\Parcels_Davis_LIR_UTM12'\n",
    "address_pts = '.\\\\Inputs\\\\AddressPoints_Davis.gdb\\\\address_points_davis'\n",
    "common_areas = r'.\\Inputs\\Common_Areas.gdb\\Common_Areas_Reviewed'\n",
    "davis_extended = r\".\\Inputs\\davis_extended_simplified.csv\""
   ]
  },
  {
   "cell_type": "markdown",
   "metadata": {},
   "source": [
    "## Create geodatabases for output files"
   ]
  },
  {
   "cell_type": "code",
   "execution_count": 9790,
   "metadata": {
    "ExecuteTime": {
     "end_time": "2021-09-03T18:53:26.664939Z",
     "start_time": "2021-09-03T18:53:26.545262Z"
    }
   },
   "outputs": [
    {
     "ename": "ExecuteError",
     "evalue": "Failed to execute. Parameters are not valid.\nERROR 000732: File GDB Location: Dataset .\\Outputs does not exist or is not supported\nFailed to execute (CreateFileGDB).\n",
     "output_type": "error",
     "traceback": [
      "\u001b[0;31m---------------------------------------------------------------------------\u001b[0m\n\u001b[0;31mExecuteError\u001b[0m                              Traceback (most recent call last)",
      "In  \u001b[0;34m[9790]\u001b[0m:\nLine \u001b[0;34m5\u001b[0m:     arcpy.CreateFileGDB_management(outputs, \u001b[33m\"\u001b[39;49;00m\u001b[33mclasses_HUI.gdb\u001b[39;49;00m\u001b[33m\"\u001b[39;49;00m)\n",
      "File \u001b[0;34mC:\\Users\\jreynolds\\AppData\\Local\\Programs\\ArcGIS\\Pro\\Resources\\ArcPy\\arcpy\\management.py\u001b[0m, in \u001b[0;32mCreateFileGDB\u001b[0m:\nLine \u001b[0;34m23214\u001b[0m: \u001b[34mraise\u001b[39;49;00m e\n",
      "File \u001b[0;34mC:\\Users\\jreynolds\\AppData\\Local\\Programs\\ArcGIS\\Pro\\Resources\\ArcPy\\arcpy\\management.py\u001b[0m, in \u001b[0;32mCreateFileGDB\u001b[0m:\nLine \u001b[0;34m23211\u001b[0m: retval = convertArcObjectToPythonObject(gp.CreateFileGDB_management(*gp_fixargs((out_folder_path, out_name, out_version), \u001b[34mTrue\u001b[39;49;00m)))\n",
      "File \u001b[0;34mC:\\Users\\jreynolds\\AppData\\Local\\Programs\\ArcGIS\\Pro\\Resources\\ArcPy\\arcpy\\geoprocessing\\_base.py\u001b[0m, in \u001b[0;32m<lambda>\u001b[0m:\nLine \u001b[0;34m512\u001b[0m:   \u001b[34mreturn\u001b[39;49;00m \u001b[34mlambda\u001b[39;49;00m *args: val(*gp_fixargs(args, \u001b[34mTrue\u001b[39;49;00m))\n",
      "\u001b[0;31mExecuteError\u001b[0m: Failed to execute. Parameters are not valid.\nERROR 000732: File GDB Location: Dataset .\\Outputs does not exist or is not supported\nFailed to execute (CreateFileGDB).\n\n\u001b[0;31m---------------------------------------------------------------------------\u001b[0m"
     ]
    }
   ],
   "source": [
    "# create output gdb\n",
    "outputs = '.\\\\Outputs'\n",
    "gdb = os.path.join(outputs, \"classes_HUI.gdb\")\n",
    "if not arcpy.Exists(gdb):\n",
    "    arcpy.CreateFileGDB_management(outputs, \"classes_HUI.gdb\")\n",
    "    \n",
    "scratch = os.path.join(outputs, \"scratch_HUI.gdb\")\n",
    "if not arcpy.Exists(scratch):\n",
    "    arcpy.CreateFileGDB_management(outputs, \"scratch_HUI.gdb\")"
   ]
  },
  {
   "cell_type": "markdown",
   "metadata": {},
   "source": [
    "## Filter Address points (used later)"
   ]
  },
  {
   "cell_type": "code",
   "execution_count": 4,
   "metadata": {
    "ExecuteTime": {
     "end_time": "2021-09-03T18:53:33.397137Z",
     "start_time": "2021-09-03T18:53:26.665937Z"
    }
   },
   "outputs": [],
   "source": [
    "# get address points without base address point\n",
    "address_pts_lyr = arcpy.MakeFeatureLayer_management(address_pts,'address_pts_lyr')\n",
    "# query = (''' PtType = 'Residential' ''') # apt and mhp pts are commercial for now\n",
    "query = (''' PtType <> 'BASE ADDRESS' ''')\n",
    "arcpy.SelectLayerByAttribute_management(address_pts_lyr, 'NEW_SELECTION', query)\n",
    "address_pts_no_base = arcpy.FeatureClassToFeatureClass_conversion(address_pts_lyr, scratch, '_00_address_pts_no_base')"
   ]
  },
  {
   "cell_type": "markdown",
   "metadata": {},
   "source": [
    "## Prep main parcel layer"
   ]
  },
  {
   "cell_type": "code",
   "execution_count": 5,
   "metadata": {
    "ExecuteTime": {
     "end_time": "2021-09-03T18:53:57.863343Z",
     "start_time": "2021-09-03T18:53:33.398149Z"
    }
   },
   "outputs": [
    {
     "data": {
      "text/html": [
       "<h2>Output</h2>a Layer object<h2>Messages</h2>Start Time: Wednesday, September 8, 2021 3:43:49 PM<br/>Succeeded at Wednesday, September 8, 2021 3:43:51 PM (Elapsed Time: 2.37 seconds)<br/><style>.rendered_html td, .rendered_html th {text-align: left;}.rendered_html tbody {border: 1px solid black;}</style>"
      ],
      "text/plain": [
       "<Result 'parcels_for_modeling_lyr'>"
      ]
     },
     "execution_count": 5,
     "metadata": {},
     "output_type": "execute_result"
    }
   ],
   "source": [
    "# select parcels within modeling area\n",
    "parcels_layer = arcpy.MakeFeatureLayer_management(parcels, 'parcels') \n",
    "arcpy.SelectLayerByLocation_management(parcels_layer, 'HAVE_THEIR_CENTER_IN', taz_shp)\n",
    "parcels_for_modeling = arcpy.FeatureClassToFeatureClass_conversion(parcels_layer, scratch, '_01_parcels_for_modeling')\n",
    "\n",
    "# recalc acreage \n",
    "arcpy.CalculateField_management(parcels_for_modeling, \"PARCEL_ACRES\", \"\"\"!SHAPE.area@ACRES!\"\"\", \"PYTHON3\")\n",
    "\n",
    "# create the main layer\n",
    "parcels_for_modeling_layer = arcpy.MakeFeatureLayer_management(parcels_for_modeling, 'parcels_for_modeling_lyr') \n",
    "\n",
    "# house count field is a string for some reason, so this is the fix\n",
    "query = \"\"\" (HOUSE_CNT IS NULL) OR (HOUSE_CNT = ' ') \"\"\"\n",
    "arcpy.SelectLayerByAttribute_management(parcels_for_modeling_layer, 'NEW_SELECTION', query)\n",
    "arcpy.CalculateField_management(parcels_for_modeling_layer, \"HOUSE_CNT\", \"\"\"0\"\"\", \"PYTHON3\")\n",
    "arcpy.SelectLayerByAttribute_management(parcels_for_modeling_layer, \"CLEAR_SELECTION\")\n",
    "arcpy.AddField_management(parcels_for_modeling_layer, 'HOUSE_CNT2', 'LONG')\n",
    "arcpy.CalculateField_management(parcels_for_modeling_layer, \"HOUSE_CNT2\", \"\"\"int(!HOUSE_CNT!)\"\"\", \"PYTHON3\")\n",
    "arcpy.DeleteField_management(parcels_for_modeling_layer,\"HOUSE_CNT\")"
   ]
  },
  {
   "cell_type": "code",
   "execution_count": 6,
   "metadata": {
    "ExecuteTime": {
     "end_time": "2021-09-03T18:54:38.570233Z",
     "start_time": "2021-09-03T18:53:57.865339Z"
    }
   },
   "outputs": [],
   "source": [
    "################################\n",
    "# Dissolve duplicate parcel ids\n",
    "################################\n",
    "\n",
    "# dissolve on parcel id,summarizing attributes in various ways\n",
    "parcels_dissolved = arcpy.management.Dissolve(parcels_for_modeling_layer, os.path.join(scratch, '_00_parcels_dissolved'), \n",
    "                                              \"PARCEL_ID\", [['PARCEL_ID','COUNT'],['TAXEXEMPT_TYPE','FIRST'],\n",
    "                                                            ['TOTAL_MKT_VALUE','SUM'],['LAND_MKT_VALUE','SUM'],\n",
    "                                                            ['PARCEL_ACRES','SUM'],['PROP_CLASS', 'FIRST'],\n",
    "                                                            ['PRIMARY_RES','FIRST'],['HOUSE_CNT2','MAX'],\n",
    "                                                            ['BLDG_SQFT','SUM'],['FLOORS_CNT','MAX'],['BUILT_YR','FIRST'],\n",
    "                                                            ['EFFBUILT_YR','FIRST']], \n",
    "                                              \"MULTI_PART\", \"DISSOLVE_LINES\")\n",
    "\n",
    "# rename columns\n",
    "parcels_dissolved_sdf = pd.DataFrame.spatial.from_featureclass(parcels_dissolved)\n",
    "parcels_dissolved_sdf.columns = ['OBJECTID', 'PARCEL_ID', 'COUNT_PARCEL_ID', 'TAXEXEMPT_TYPE','TOTAL_MKT_VALUE', \n",
    "                                 'LAND_MKT_VALUE', 'PARCEL_ACRES','PROP_CLASS', 'PRIMARY_RES', \n",
    "                                 'HOUSE_CNT','BLDG_SQFT', 'FLOORS_CNT', 'BUILT_YR','EFFBUILT_YR', \n",
    "                                 'SHAPE']\n",
    "\n",
    "# remove parcels without parcel ids\n",
    "parcels_dissolved_sdf = parcels_dissolved_sdf[parcels_dissolved_sdf['PARCEL_ID'].isnull() == False].copy()"
   ]
  },
  {
   "cell_type": "markdown",
   "metadata": {},
   "source": [
    "## Join extended parcel descriptions to parcel geometry (Davis County only)"
   ]
  },
  {
   "cell_type": "code",
   "execution_count": 7,
   "metadata": {
    "ExecuteTime": {
     "end_time": "2021-09-03T18:55:28.319740Z",
     "start_time": "2021-09-03T18:54:38.570233Z"
    }
   },
   "outputs": [
    {
     "name": "stderr",
     "output_type": "stream",
     "text": [
      "C:\\Users\\jreynolds\\AppData\\Local\\ESRI\\conda\\envs\\arcgispro-py3-clone\\lib\\site-packages\\IPython\\core\\interactiveshell.py:3166: DtypeWarning: Columns (9) have mixed types.Specify dtype option on import or set low_memory=False.\n",
      "  interactivity=interactivity, compiler=compiler, result=result)\n"
     ]
    }
   ],
   "source": [
    "# load extended descriptions\n",
    "def add_leading_zeroes(parcel_id_str):\n",
    "    if len(parcel_id_str) == 8:\n",
    "        return \"0{}\".format(str(parcel_id_str))\n",
    "    if len(parcel_id_str) == 7:\n",
    "        return \"00{}\".format(str(parcel_id_str))\n",
    "    else:\n",
    "        return parcel_id_str\n",
    "    \n",
    "# Load Extended Descriptions - be sure to format ACCOUNTNO column as text in excel first\n",
    "ext_desc = pd.read_csv(davis_extended, dtype={'ACCOUNTNO':str})\n",
    "\n",
    "# format account numbers so that they are all 9 characters long\n",
    "ext_desc['ACCOUNTNO'] = ext_desc['ACCOUNTNO'].astype(str).map(add_leading_zeroes)\n",
    "ext_desc = ext_desc[['ACCOUNTNO','des_all','class']].copy()\n",
    "\n",
    "# parcels_sdf = pd.DataFrame.spatial.from_featureclass(parcels_for_modeling_layer)\n",
    "parcels_sdf = parcels_dissolved_sdf.merge(ext_desc, left_on='PARCEL_ID',right_on='ACCOUNTNO',how='left')\n",
    "parcels_sdf.spatial.to_featureclass(location=os.path.join(scratch, '_01_parcels_extended'),sanitize_columns=False)\n",
    "\n",
    "updated_parcels = os.path.join(scratch, '_01_parcels_extended')\n",
    "parcels_for_modeling_layer = arcpy.MakeFeatureLayer_management(updated_parcels, 'parcels_for_modeling_lyr')"
   ]
  },
  {
   "cell_type": "markdown",
   "metadata": {},
   "source": [
    "## More parcel prep"
   ]
  },
  {
   "cell_type": "code",
   "execution_count": 8,
   "metadata": {
    "ExecuteTime": {
     "end_time": "2021-09-03T18:55:29.805097Z",
     "start_time": "2021-09-03T18:55:28.321738Z"
    }
   },
   "outputs": [
    {
     "data": {
      "text/html": [
       "<h2>Output</h2>a Layer object<h2>Messages</h2>Start Time: Wednesday, September 8, 2021 3:45:24 PM<br/>Adding IS_OUG to _01_parcels_extended...<br/>Succeeded at Wednesday, September 8, 2021 3:45:24 PM (Elapsed Time: 0.07 seconds)<br/><style>.rendered_html td, .rendered_html th {text-align: left;}.rendered_html tbody {border: 1px solid black;}</style>"
      ],
      "text/plain": [
       "<Result 'parcels_for_modeling_lyr'>"
      ]
     },
     "execution_count": 8,
     "metadata": {},
     "output_type": "execute_result"
    }
   ],
   "source": [
    "# add a field to indicate parcel type\n",
    "arcpy.AddField_management(parcels_for_modeling_layer, 'TYPE_WFRC', 'TEXT')\n",
    "arcpy.AddField_management(parcels_for_modeling_layer, 'SUBTYPE_WFRC', 'TEXT')\n",
    "arcpy.AddField_management(parcels_for_modeling_layer, 'NOTE', 'TEXT')\n",
    "arcpy.AddField_management(parcels_for_modeling_layer, 'IS_OUG', 'SHORT')"
   ]
  },
  {
   "cell_type": "code",
   "execution_count": 9,
   "metadata": {
    "ExecuteTime": {
     "end_time": "2021-09-03T18:55:53.685051Z",
     "start_time": "2021-09-03T18:55:29.807092Z"
    }
   },
   "outputs": [
    {
     "data": {
      "text/html": [
       "<h2>Output</h2>a Layer object<h2>Messages</h2>Start Time: Wednesday, September 8, 2021 3:45:48 PM<br/>Succeeded at Wednesday, September 8, 2021 3:45:54 PM (Elapsed Time: 6.70 seconds)<br/><style>.rendered_html td, .rendered_html th {text-align: left;}.rendered_html tbody {border: 1px solid black;}</style>"
      ],
      "text/plain": [
       "<Result 'parcels_for_modeling_lyr'>"
      ]
     },
     "execution_count": 9,
     "metadata": {},
     "output_type": "execute_result"
    }
   ],
   "source": [
    "arcpy.CalculateField_management(parcels_for_modeling_layer, field='IS_OUG', expression=\"0\",\n",
    "                                expression_type=\"PYTHON3\")\n",
    "\n",
    "# count parts and rings\n",
    "arcpy.AddField_management(parcels_for_modeling_layer, 'PARTS', 'LONG')\n",
    "arcpy.AddField_management(parcels_for_modeling_layer, 'RINGS', 'LONG')\n",
    "\n",
    "fields = [\"shape@\", 'PARTS', 'RINGS']\n",
    "with arcpy.da.UpdateCursor(parcels_for_modeling_layer, fields) as cursor:\n",
    "    for row in cursor:\n",
    "        shape = row[0]\n",
    "        parts = shape.partCount\n",
    "        rings = shape.boundary().partCount   \n",
    "        row[1] = parts\n",
    "        row[2] = rings\n",
    "        cursor.updateRow(row)\n",
    "        \n",
    "\n",
    "# delete parcels with empty geometry\n",
    "query = (\"\"\" PARTS =  0\"\"\")\n",
    "arcpy.SelectLayerByAttribute_management(parcels_for_modeling_layer, 'NEW_SELECTION', query)\n",
    "parcels_for_modeling_layer = arcpy.DeleteFeatures_management(parcels_for_modeling_layer)\n",
    "\n",
    "# add second built year field\n",
    "arcpy.AddField_management(parcels_for_modeling_layer, 'BUILT_YR2', 'SHORT')\n",
    "arcpy.CalculateField_management(parcels_for_modeling_layer, \"BUILT_YR2\", \"\"\"!BUILT_YR!\"\"\", \"PYTHON3\")"
   ]
  },
  {
   "cell_type": "code",
   "execution_count": 10,
   "metadata": {
    "ExecuteTime": {
     "end_time": "2021-09-03T18:55:53.981432Z",
     "start_time": "2021-09-03T18:55:53.690937Z"
    }
   },
   "outputs": [
    {
     "name": "stdout",
     "output_type": "stream",
     "text": [
      "# initial parcels in modeling area:\n",
      " 113616\n"
     ]
    }
   ],
   "source": [
    "# get a count of all parcels\n",
    "count_all = arcpy.GetCount_management(parcels_for_modeling_layer)\n",
    "print(\"# initial parcels in modeling area:\\n {}\".format(count_all))"
   ]
  },
  {
   "cell_type": "markdown",
   "metadata": {},
   "source": [
    "## Load Owned Unit Groupings boundaries (common areas) and summarize parcels within"
   ]
  },
  {
   "cell_type": "code",
   "execution_count": 11,
   "metadata": {
    "ExecuteTime": {
     "end_time": "2021-09-03T18:55:57.547354Z",
     "start_time": "2021-09-03T18:55:53.982428Z"
    }
   },
   "outputs": [
    {
     "data": {
      "text/html": [
       "<h2>Output</h2>.\\Outputs\\scratch_HUI.gdb\\_02e_ca_multi_family<h2>Messages</h2>Start Time: Wednesday, September 8, 2021 3:45:58 PM<br/>Adding IS_OUG to _02e_ca_multi_family...<br/>Succeeded at Wednesday, September 8, 2021 3:45:58 PM (Elapsed Time: 0.08 seconds)<br/><style>.rendered_html td, .rendered_html th {text-align: left;}.rendered_html tbody {border: 1px solid black;}</style>"
      ],
      "text/plain": [
       "<Result '.\\\\Outputs\\\\scratch_HUI.gdb\\\\_02e_ca_multi_family'>"
      ]
     },
     "execution_count": 11,
     "metadata": {},
     "output_type": "execute_result"
    }
   ],
   "source": [
    "###############\n",
    "# Common Areas\n",
    "###############\n",
    "\n",
    "common_areas_lyr = arcpy.MakeFeatureLayer_management(common_areas, 'common_areas_lyr') \n",
    "\n",
    "# Planned Unit Developments\n",
    "query = \"\"\" SUBTYPE_WFRC IN ('pud') \"\"\"\n",
    "arcpy.SelectLayerByAttribute_management(common_areas_lyr, 'NEW_SELECTION', query)\n",
    "ca_pud = arcpy.FeatureClassToFeatureClass_conversion(common_areas_lyr, scratch, '_02g_ca_pud')\n",
    "\n",
    "arcpy.CalculateField_management(ca_pud, field='IS_OUG', expression=\"1\",\n",
    "                                expression_type=\"PYTHON3\")\n",
    "\n",
    "# multi_family\n",
    "query = \"\"\" TYPE_WFRC IN ('multi_family') \"\"\"\n",
    "arcpy.SelectLayerByAttribute_management(common_areas_lyr, 'NEW_SELECTION', query)\n",
    "ca_multi_family = arcpy.FeatureClassToFeatureClass_conversion(common_areas_lyr, scratch, '_02e_ca_multi_family')\n",
    "\n",
    "arcpy.CalculateField_management(ca_multi_family, field='IS_OUG', expression=\"1\",\n",
    "                                expression_type=\"PYTHON3\")"
   ]
  },
  {
   "cell_type": "code",
   "execution_count": 12,
   "metadata": {
    "ExecuteTime": {
     "end_time": "2021-09-03T18:56:09.976364Z",
     "start_time": "2021-09-03T18:55:57.548266Z"
    }
   },
   "outputs": [
    {
     "name": "stdout",
     "output_type": "stream",
     "text": [
      "2655 \"single_family\" parcels were selected.\n",
      "110961 parcels remain...\n"
     ]
    }
   ],
   "source": [
    "###############\n",
    "# PUD\n",
    "###############\n",
    "\n",
    "tag = \"single_family\"\n",
    "tag2 = \"pud\"\n",
    "\n",
    "# parcels that are contained by condo common areas\n",
    "arcpy.SelectLayerByLocation_management(in_layer=parcels_for_modeling_layer , overlap_type=\"INTERSECT\", \n",
    "                                       select_features=ca_pud, selection_type='NEW_SELECTION')\n",
    "\n",
    "# convert condo parcels that are contained by common areas into centroids\n",
    "pud_centroids = arcpy.FeatureToPoint_management(parcels_for_modeling_layer, \n",
    "                                                  os.path.join(scratch, '_03a_pud_centroids'), \"INSIDE\")\n",
    "\n",
    "# recalc acreage\n",
    "arcpy.CalculateField_management(ca_pud, \"PARCEL_ACRES\", \"\"\"!SHAPE.area@ACRES!\"\"\", \"PYTHON3\")\n",
    "\n",
    "#==================================================\n",
    "# summarize units attributes within pud areas\n",
    "#==================================================\n",
    "\n",
    "# use spatial join to summarize market value & acreage\n",
    "target_features = ca_pud\n",
    "join_features = pud_centroids\n",
    "output_features = os.path.join(scratch, \"_03a_pud_sj\")\n",
    "\n",
    "fieldmappings = arcpy.FieldMappings()\n",
    "fieldmappings.addTable(target_features)\n",
    "fieldmappings.addTable(join_features)\n",
    "\n",
    "# total market value\n",
    "fieldindex = fieldmappings.findFieldMapIndex('TOTAL_MKT_VALUE')\n",
    "fieldmap = fieldmappings.getFieldMap(fieldindex)\n",
    "fieldmap.mergeRule = 'Sum'\n",
    "fieldmappings.replaceFieldMap(fieldindex, fieldmap)\n",
    "\n",
    "# total land value\n",
    "fieldindex = fieldmappings.findFieldMapIndex('LAND_MKT_VALUE')\n",
    "fieldmap = fieldmappings.getFieldMap(fieldindex)\n",
    "fieldmap.mergeRule = 'Sum'\n",
    "fieldmappings.replaceFieldMap(fieldindex, fieldmap)\n",
    "\n",
    "# building square feet\n",
    "fieldindex = fieldmappings.findFieldMapIndex('BLDG_SQFT')\n",
    "fieldmap = fieldmappings.getFieldMap(fieldindex)\n",
    "fieldmap.mergeRule = 'Sum'\n",
    "fieldmappings.replaceFieldMap(fieldindex, fieldmap)\n",
    "\n",
    "# house count\n",
    "fieldindex = fieldmappings.findFieldMapIndex('HOUSE_CNT')\n",
    "fieldmap = fieldmappings.getFieldMap(fieldindex)\n",
    "fieldmap.mergeRule = 'SUM'\n",
    "fieldmappings.replaceFieldMap(fieldindex, fieldmap)\n",
    "\n",
    "# floor count\n",
    "fieldindex = fieldmappings.findFieldMapIndex('FLOORS_CNT')\n",
    "fieldmap = fieldmappings.getFieldMap(fieldindex)\n",
    "fieldmap.mergeRule = 'Mean'\n",
    "fieldmappings.replaceFieldMap(fieldindex, fieldmap)\n",
    "\n",
    "# year\n",
    "fieldindex = fieldmappings.findFieldMapIndex('BUILT_YR')\n",
    "fieldmap = fieldmappings.getFieldMap(fieldindex)\n",
    "fieldmap.mergeRule = 'Mode'\n",
    "fieldmappings.replaceFieldMap(fieldindex, fieldmap)\n",
    "\n",
    "# built year max\n",
    "fieldindex = fieldmappings.findFieldMapIndex('BUILT_YR2')\n",
    "fieldmap = fieldmappings.getFieldMap(fieldindex)\n",
    "fieldmap.mergeRule = 'Max'\n",
    "fieldmappings.replaceFieldMap(fieldindex, fieldmap)\n",
    "\n",
    "# run the spatial join, use 'Join_Count' for number of units\n",
    "oug_sj = arcpy.SpatialJoin_analysis(target_features, join_features, output_features,'JOIN_ONE_TO_ONE', \"KEEP_ALL\", \n",
    "                           fieldmappings, \"INTERSECT\")\n",
    "\n",
    "# calculate the type field\n",
    "arcpy.CalculateField_management(oug_sj, field='TYPE_WFRC', expression=\"'{}'\".format(tag),\n",
    "                                expression_type=\"PYTHON3\")\n",
    "\n",
    "arcpy.CalculateField_management(oug_sj, field='SUBTYPE_WFRC', expression=\"'{}'\".format(tag2),\n",
    "                                expression_type=\"PYTHON3\")\n",
    "\n",
    "# rename join_count\n",
    "arcpy.CalculateField_management(oug_sj, field='parcel_count', expression=\"!Join_Count!\",\n",
    "                                expression_type=\"PYTHON3\")\n",
    "\n",
    "arcpy.DeleteField_management(oug_sj, \"Join_Count\")\n",
    "\n",
    "#################################\n",
    "# get count from address points\n",
    "#################################\n",
    "\n",
    "# summarize address points address_point_count \"ap_count\"\n",
    "target_features = oug_sj \n",
    "join_features = address_pts_no_base\n",
    "output_features = os.path.join(gdb, \"_02_pud\")\n",
    "\n",
    "fieldmappings = arcpy.FieldMappings()\n",
    "fieldmappings.addTable(target_features)\n",
    "fieldmappings.addTable(join_features)\n",
    "\n",
    "oug_sj2 = arcpy.SpatialJoin_analysis(target_features, join_features, output_features,'JOIN_ONE_TO_ONE', \"KEEP_ALL\", \n",
    "                           fieldmappings, match_option=\"INTERSECT\")\n",
    "\n",
    "arcpy.CalculateField_management(oug_sj2, field='ap_count', expression=\"!Join_Count!\", expression_type=\"PYTHON3\")\n",
    "arcpy.DeleteField_management(oug_sj2, \"Join_Count\")\n",
    "\n",
    "#################################\n",
    "# WRAP-UP\n",
    "#################################\n",
    "\n",
    "# delete features from working parcels\n",
    "arcpy.SelectLayerByLocation_management(in_layer=parcels_for_modeling_layer , overlap_type=\"HAVE_THEIR_CENTER_IN\", \n",
    "                                       select_features=oug_sj2, selection_type='NEW_SELECTION')\n",
    "arcpy.SelectLayerByLocation_management(in_layer=parcels_for_modeling_layer , overlap_type=\"WITHIN\", \n",
    "                                       select_features=oug_sj2, selection_type='ADD_TO_SELECTION')\n",
    "\n",
    "count_type = arcpy.GetCount_management(parcels_for_modeling_layer)\n",
    "parcels_for_modeling_layer = arcpy.DeleteFeatures_management(parcels_for_modeling_layer)\n",
    "\n",
    "# count of remaining parcels\n",
    "count_remaining = arcpy.GetCount_management(parcels_for_modeling_layer)\n",
    "\n",
    "# update year built with max if mode is 0\n",
    "with arcpy.da.UpdateCursor(oug_sj2, ['BUILT_YR', 'BUILT_YR2']) as cursor:\n",
    "    for row in cursor:\n",
    "        if row[0]  is None or row[0] < 1 or row[0] == \"\":\n",
    "            row[0] = row[1]\n",
    "        \n",
    "        cursor.updateRow(row)\n",
    "\n",
    "# calculate basebldg field\n",
    "arcpy.CalculateField_management(oug_sj2, field='basebldg', expression=\"1\",\n",
    "                                expression_type=\"PYTHON3\")\n",
    "\n",
    "# calculate building_type_id field\n",
    "arcpy.CalculateField_management(oug_sj2, field='building_type_id', expression=\"1\",\n",
    "                                expression_type=\"PYTHON3\")\n",
    "\n",
    "# message\n",
    "print('{} \"{}\" parcels were selected.\\n{} parcels remain...'.format(count_type, tag, count_remaining))"
   ]
  },
  {
   "cell_type": "code",
   "execution_count": 13,
   "metadata": {
    "ExecuteTime": {
     "end_time": "2021-09-03T18:56:23.003287Z",
     "start_time": "2021-09-03T18:56:09.978362Z"
    }
   },
   "outputs": [
    {
     "name": "stdout",
     "output_type": "stream",
     "text": [
      "9522 \"multi_family\" parcels were selected.\n",
      "101439 parcels remain...\n"
     ]
    }
   ],
   "source": [
    "###############\n",
    "# multi family\n",
    "###############\n",
    "\n",
    "tag = \"multi_family\"\n",
    "\n",
    "# parcels that are contained by condo common areas\n",
    "arcpy.SelectLayerByLocation_management(in_layer=parcels_for_modeling_layer , overlap_type=\"INTERSECT\", \n",
    "                                       select_features=ca_multi_family, selection_type='NEW_SELECTION')\n",
    "\n",
    "# convert condo parcels that are contained by common areas into centroids\n",
    "mf_centroids = arcpy.FeatureToPoint_management(parcels_for_modeling_layer, \n",
    "                                                  os.path.join(scratch, '_03a_mf_centroids'), \"INSIDE\")\n",
    "\n",
    "# recalc acreage\n",
    "arcpy.CalculateField_management(ca_multi_family, \"PARCEL_ACRES\", \"\"\"!SHAPE.area@ACRES!\"\"\", \"PYTHON3\")\n",
    "\n",
    "#==================================================\n",
    "# summarize units attributes within pud areas\n",
    "#==================================================\n",
    "\n",
    "# use spatial join to summarize market value & acreage\n",
    "target_features = ca_multi_family\n",
    "join_features = mf_centroids\n",
    "output_features = os.path.join(scratch, \"_03b_mf_sj\")\n",
    "\n",
    "fieldmappings = arcpy.FieldMappings()\n",
    "fieldmappings.addTable(target_features)\n",
    "fieldmappings.addTable(join_features)\n",
    "\n",
    "# total market value\n",
    "fieldindex = fieldmappings.findFieldMapIndex('TOTAL_MKT_VALUE')\n",
    "fieldmap = fieldmappings.getFieldMap(fieldindex)\n",
    "fieldmap.mergeRule = 'Sum'\n",
    "fieldmappings.replaceFieldMap(fieldindex, fieldmap)\n",
    "\n",
    "# total land value\n",
    "fieldindex = fieldmappings.findFieldMapIndex('LAND_MKT_VALUE')\n",
    "fieldmap = fieldmappings.getFieldMap(fieldindex)\n",
    "fieldmap.mergeRule = 'Sum'\n",
    "fieldmappings.replaceFieldMap(fieldindex, fieldmap)\n",
    "\n",
    "# building square feet\n",
    "fieldindex = fieldmappings.findFieldMapIndex('BLDG_SQFT')\n",
    "fieldmap = fieldmappings.getFieldMap(fieldindex)\n",
    "fieldmap.mergeRule = 'Sum'\n",
    "fieldmappings.replaceFieldMap(fieldindex, fieldmap)\n",
    "\n",
    "# house count\n",
    "fieldindex = fieldmappings.findFieldMapIndex('HOUSE_CNT')\n",
    "fieldmap = fieldmappings.getFieldMap(fieldindex)\n",
    "fieldmap.mergeRule = 'SUM'\n",
    "fieldmappings.replaceFieldMap(fieldindex, fieldmap)\n",
    "\n",
    "# floor count\n",
    "fieldindex = fieldmappings.findFieldMapIndex('FLOORS_CNT')\n",
    "fieldmap = fieldmappings.getFieldMap(fieldindex)\n",
    "fieldmap.mergeRule = 'Mean'\n",
    "fieldmappings.replaceFieldMap(fieldindex, fieldmap)\n",
    "\n",
    "# year\n",
    "fieldindex = fieldmappings.findFieldMapIndex('BUILT_YR')\n",
    "fieldmap = fieldmappings.getFieldMap(fieldindex)\n",
    "fieldmap.mergeRule = 'Mode'\n",
    "fieldmappings.replaceFieldMap(fieldindex, fieldmap)\n",
    "\n",
    "# built year max\n",
    "fieldindex = fieldmappings.findFieldMapIndex('BUILT_YR2')\n",
    "fieldmap = fieldmappings.getFieldMap(fieldindex)\n",
    "fieldmap.mergeRule = 'Max'\n",
    "fieldmappings.replaceFieldMap(fieldindex, fieldmap)\n",
    "\n",
    "# run the spatial join, use 'Join_Count' for number of units\n",
    "oug_sj = arcpy.SpatialJoin_analysis(target_features, join_features, output_features,'JOIN_ONE_TO_ONE', \"KEEP_ALL\", \n",
    "                           fieldmappings, \"INTERSECT\")\n",
    "\n",
    "# calculate the type field\n",
    "arcpy.CalculateField_management(oug_sj, field='TYPE_WFRC', expression=\"'{}'\".format(tag),\n",
    "                                expression_type=\"PYTHON3\")\n",
    "\n",
    "# rename join_count\n",
    "arcpy.CalculateField_management(oug_sj, field='parcel_count', expression=\"!Join_Count!\",\n",
    "                                expression_type=\"PYTHON3\")\n",
    "\n",
    "arcpy.DeleteField_management(oug_sj, \"Join_Count\")\n",
    "\n",
    "#################################\n",
    "# get count from address points\n",
    "#################################\n",
    "\n",
    "# summarize address points address_point_count \"ap_count\"\n",
    "target_features = oug_sj \n",
    "join_features = address_pts_no_base\n",
    "output_features = os.path.join(gdb, \"_02_multi_family\")\n",
    "\n",
    "fieldmappings = arcpy.FieldMappings()\n",
    "fieldmappings.addTable(target_features)\n",
    "fieldmappings.addTable(join_features)\n",
    "\n",
    "oug_sj2 = arcpy.SpatialJoin_analysis(target_features, join_features, output_features,'JOIN_ONE_TO_ONE', \"KEEP_ALL\", \n",
    "                           fieldmappings, match_option=\"INTERSECT\")\n",
    "\n",
    "arcpy.CalculateField_management(oug_sj2, field='ap_count', expression=\"!Join_Count!\", expression_type=\"PYTHON3\")\n",
    "arcpy.DeleteField_management(oug_sj2, \"Join_Count\")\n",
    "\n",
    "#################################\n",
    "# WRAP-UP\n",
    "#################################\n",
    "\n",
    "# delete features from working parcels\n",
    "arcpy.SelectLayerByLocation_management(in_layer=parcels_for_modeling_layer , overlap_type=\"HAVE_THEIR_CENTER_IN\", \n",
    "                                       select_features=oug_sj2, selection_type='NEW_SELECTION')\n",
    "arcpy.SelectLayerByLocation_management(in_layer=parcels_for_modeling_layer , overlap_type=\"WITHIN\", \n",
    "                                       select_features=oug_sj2, selection_type='ADD_TO_SELECTION')\n",
    "\n",
    "count_type = arcpy.GetCount_management(parcels_for_modeling_layer)\n",
    "parcels_for_modeling_layer = arcpy.DeleteFeatures_management(parcels_for_modeling_layer)\n",
    "\n",
    "# count of remaining parcels\n",
    "count_remaining = arcpy.GetCount_management(parcels_for_modeling_layer)\n",
    "\n",
    "# update year built with max if mode is 0\n",
    "with arcpy.da.UpdateCursor(oug_sj2, ['BUILT_YR', 'BUILT_YR2']) as cursor:\n",
    "    for row in cursor:\n",
    "        if row[0]  is None or row[0] < 1 or row[0] == \"\":\n",
    "            row[0] = row[1]\n",
    "        \n",
    "        cursor.updateRow(row)\n",
    "\n",
    "# calculate basebldg field\n",
    "arcpy.CalculateField_management(oug_sj2, field='basebldg', expression=\"1\",\n",
    "                                expression_type=\"PYTHON3\")\n",
    "\n",
    "# calculate building_type_id field\n",
    "arcpy.CalculateField_management(oug_sj2, field='building_type_id', expression=\"2\",\n",
    "                                expression_type=\"PYTHON3\")\n",
    "\n",
    "# message\n",
    "print('{} \"{}\" parcels were selected.\\n{} parcels remain...'.format(count_type, tag, count_remaining))"
   ]
  },
  {
   "cell_type": "markdown",
   "metadata": {},
   "source": [
    "## Categorize parcels using attributes from extended descriptions"
   ]
  },
  {
   "cell_type": "code",
   "execution_count": 14,
   "metadata": {
    "ExecuteTime": {
     "end_time": "2021-09-03T18:56:47.783626Z",
     "start_time": "2021-09-03T18:56:23.004023Z"
    }
   },
   "outputs": [
    {
     "name": "stdout",
     "output_type": "stream",
     "text": [
      "82130 \"single_family\" parcels were selected.\n",
      "19309 parcels remain...\n"
     ]
    }
   ],
   "source": [
    "################\n",
    "# single_family\n",
    "################\n",
    "\n",
    "query = (\"\"\" class IN ('single_family') \"\"\")\n",
    "tag=\"single_family\"\n",
    "\n",
    "# select the features\n",
    "arcpy.SelectLayerByAttribute_management(parcels_for_modeling_layer, 'NEW_SELECTION', query)\n",
    "\n",
    "# count the selected features\n",
    "count_type = arcpy.GetCount_management(parcels_for_modeling_layer)\n",
    "\n",
    "# calculate the type field\n",
    "arcpy.CalculateField_management(parcels_for_modeling_layer, field='TYPE_WFRC', expression=\"'{}'\".format(tag),\n",
    "                                expression_type=\"PYTHON3\")\n",
    "\n",
    "arcpy.CalculateField_management(parcels_for_modeling_layer, field='SUBTYPE_WFRC', expression=\"'{}'\".format(tag),\n",
    "                                expression_type=\"PYTHON3\")\n",
    "\n",
    "# create the feature class for the parcel type\n",
    "single_family = arcpy.FeatureClassToFeatureClass_conversion(parcels_for_modeling_layer, gdb, '_02_{}'.format(tag))\n",
    "\n",
    "# calculate basebldg field\n",
    "arcpy.CalculateField_management(os.path.join(gdb, '_02_{}'.format(tag)), field='basebldg', expression=\"1\",\n",
    "                                expression_type=\"PYTHON3\")\n",
    "\n",
    "# calculate building_type_id field\n",
    "arcpy.CalculateField_management(os.path.join(gdb, '_02_{}'.format(tag)), field='building_type_id', expression=\"1\",\n",
    "                                expression_type=\"PYTHON3\")\n",
    "\n",
    "# delete features from working parcels\n",
    "parcels_for_modeling_layer = arcpy.DeleteFeatures_management(parcels_for_modeling_layer)\n",
    "\n",
    "# count remaining features\n",
    "arcpy.SelectLayerByAttribute_management(parcels_for_modeling_layer, \"CLEAR_SELECTION\")\n",
    "count_remaining = arcpy.GetCount_management(parcels_for_modeling_layer)\n",
    "\n",
    "# message\n",
    "print('{} \"{}\" parcels were selected.\\n{} parcels remain...'.format(count_type, tag, count_remaining))"
   ]
  },
  {
   "cell_type": "code",
   "execution_count": 15,
   "metadata": {
    "ExecuteTime": {
     "end_time": "2021-09-03T18:56:54.245726Z",
     "start_time": "2021-09-03T18:56:47.784626Z"
    }
   },
   "outputs": [
    {
     "name": "stdout",
     "output_type": "stream",
     "text": [
      "1555 \"multi_family\" parcels were selected.\n",
      "17754 parcels remain...\n"
     ]
    }
   ],
   "source": [
    "################\n",
    "# Multi-Family\n",
    "################\n",
    "\n",
    "query = (\"\"\" class IN ('multi_family', 'duplex','apartment', 'townhome', 'triplex-quadplex') \"\"\")\n",
    "tag=\"multi_family\"\n",
    "\n",
    "# select the features\n",
    "arcpy.SelectLayerByAttribute_management(parcels_for_modeling_layer, 'NEW_SELECTION', query)\n",
    "\n",
    "# count the selected features\n",
    "count_type = arcpy.GetCount_management(parcels_for_modeling_layer)\n",
    "\n",
    "# calculate the type field\n",
    "arcpy.CalculateField_management(parcels_for_modeling_layer, field='TYPE_WFRC', expression=\"'{}'\".format(tag),\n",
    "                                expression_type=\"PYTHON3\")\n",
    "\n",
    "# calculate the type field\n",
    "# arcpy.CalculateField_management(parcels_for_modeling_layer, field='SUBTYPE_WFRC', expression=\"!class!\", \n",
    "#                                 expression_type=\"PYTHON3\")\n",
    "\n",
    "fields = [\"SUBTYPE_WFRC\", 'NOTE', 'class']\n",
    "with arcpy.da.UpdateCursor(parcels_for_modeling_layer, fields) as cursor:\n",
    "    for row in cursor:\n",
    "        if  row[2] in ['duplex','apartment','townhome','multi_family']:\n",
    "            row[0] = row[2]\n",
    "        \n",
    "        if  row[2] == 'triplex-quadplex':\n",
    "            row[0] = 'apartment'\n",
    "            row[1] = row[2]\n",
    "\n",
    "        cursor.updateRow(row)\n",
    "\n",
    "# create the feature class for the parcel type\n",
    "mf2_commons = arcpy.FeatureClassToFeatureClass_conversion(parcels_for_modeling_layer, scratch, '_02_mf2_commons')\n",
    "\n",
    "#################################\n",
    "# get count from address points\n",
    "#################################\n",
    "\n",
    "# summarize address points address_point_count \"ap_count\"\n",
    "target_features = mf2_commons\n",
    "join_features = address_pts_no_base\n",
    "output_features = os.path.join(gdb, \"_02_multi_family2\")\n",
    "\n",
    "fieldmappings = arcpy.FieldMappings()\n",
    "fieldmappings.addTable(target_features)\n",
    "fieldmappings.addTable(join_features)\n",
    "\n",
    "oug_sj2 = arcpy.SpatialJoin_analysis(target_features, join_features, output_features,'JOIN_ONE_TO_ONE', \"KEEP_ALL\", \n",
    "                           fieldmappings, match_option=\"INTERSECT\")\n",
    "\n",
    "arcpy.CalculateField_management(oug_sj2, field='ap_count', expression=\"!Join_Count!\", expression_type=\"PYTHON3\")\n",
    "arcpy.DeleteField_management(oug_sj2, \"Join_Count\")\n",
    "\n",
    "#################################\n",
    "# WRAP-UP\n",
    "#################################\n",
    "\n",
    "# calculate basebldg field\n",
    "arcpy.CalculateField_management(oug_sj2, field='basebldg', expression=\"1\",\n",
    "                                expression_type=\"PYTHON3\")\n",
    "\n",
    "# calculate building_type_id field\n",
    "arcpy.CalculateField_management(oug_sj2, field='building_type_id', expression=\"2\",\n",
    "                                expression_type=\"PYTHON3\")\n",
    "\n",
    "# delete features from working parcels\n",
    "parcels_for_modeling_layer = arcpy.DeleteFeatures_management(parcels_for_modeling_layer)\n",
    "\n",
    "# count remaining features\n",
    "arcpy.SelectLayerByAttribute_management(parcels_for_modeling_layer, \"CLEAR_SELECTION\")\n",
    "count_remaining = arcpy.GetCount_management(parcels_for_modeling_layer)\n",
    "\n",
    "# message\n",
    "print('{} \"{}\" parcels were selected.\\n{} parcels remain...'.format(count_type, tag, count_remaining))"
   ]
  },
  {
   "cell_type": "code",
   "execution_count": 16,
   "metadata": {
    "ExecuteTime": {
     "end_time": "2021-09-03T18:57:00.658331Z",
     "start_time": "2021-09-03T18:56:54.246725Z"
    }
   },
   "outputs": [
    {
     "name": "stdout",
     "output_type": "stream",
     "text": [
      "89 \"multi_family\" parcels were selected.\n",
      "17665 parcels remain...\n"
     ]
    }
   ],
   "source": [
    "##########################\n",
    "# mobile home parks\n",
    "##########################\n",
    "\n",
    "tag = \"multi_family\"\n",
    "tag2 = \"mobile_home_park\"\n",
    "\n",
    "# use overlay to select mobile home parks parcels\n",
    "mobile_home_parks = \".\\\\Inputs\\\\Mobile_Home_Parks.shp\"\n",
    "arcpy.SelectLayerByLocation_management(in_layer=parcels_for_modeling_layer,overlap_type=\"HAVE_THEIR_CENTER_IN\",\n",
    "                                       select_features=mobile_home_parks,\n",
    "                                       selection_type='NEW_SELECTION')\n",
    "query= (\"\"\" class IN ('mobile_home_park') \"\"\")\n",
    "arcpy.SelectLayerByAttribute_management(parcels_for_modeling_layer, 'ADD_TO_SELECTION', query)\n",
    "\n",
    "\n",
    "# count the selected features\n",
    "count_type = arcpy.GetCount_management(parcels_for_modeling_layer)\n",
    "\n",
    "# calculate the type field\n",
    "arcpy.CalculateField_management(parcels_for_modeling_layer, field='TYPE_WFRC', expression=\"'{}'\".format(tag),\n",
    "                                expression_type=\"PYTHON3\")\n",
    "\n",
    "# calculate the type field\n",
    "arcpy.CalculateField_management(parcels_for_modeling_layer, field='SUBTYPE_WFRC', expression=\"'{}'\".format(tag2),\n",
    "                                expression_type=\"PYTHON3\")\n",
    "\n",
    "# create the feature class for the parcel type\n",
    "mhp = arcpy.FeatureClassToFeatureClass_conversion(parcels_for_modeling_layer, scratch, '_07a_{}'.format(tag))\n",
    "\n",
    "# delete features from working parcels\n",
    "parcels_for_modeling_layer = arcpy.DeleteFeatures_management(parcels_for_modeling_layer)\n",
    "\n",
    "# count remaining features\n",
    "arcpy.SelectLayerByAttribute_management(parcels_for_modeling_layer, \"CLEAR_SELECTION\")\n",
    "count_remaining = arcpy.GetCount_management(parcels_for_modeling_layer)\n",
    "\n",
    "# recalc acreage \n",
    "# arcpy.CalculateGeometryAttributes_management(mhp, [[\"PARCEL_ACRES\", \"AREA\"]], area_unit='ACRES')\n",
    "arcpy.CalculateField_management(mhp, \"PARCEL_ACRES\", \"\"\"!SHAPE.area@ACRES!\"\"\", \"PYTHON3\")\n",
    "\n",
    "#################################\n",
    "# get count from address points\n",
    "#################################\n",
    "\n",
    "# summarize address points address_point_count \"ap_count\"\n",
    "target_features = mhp\n",
    "join_features = address_pts_no_base\n",
    "output_features = os.path.join(gdb, \"_02_mobile_home_park\")\n",
    "\n",
    "oug_sj2 = arcpy.SpatialJoin_analysis(target_features, join_features, output_features,'JOIN_ONE_TO_ONE', \"KEEP_ALL\", \n",
    "                           match_option=\"INTERSECT\")\n",
    "\n",
    "arcpy.CalculateField_management(oug_sj2, field='ap_count', expression=\"!Join_Count!\", expression_type=\"PYTHON3\")\n",
    "arcpy.DeleteField_management(oug_sj2, \"Join_Count\")\n",
    "\n",
    "# calculate basebldg field\n",
    "arcpy.CalculateField_management(oug_sj2, field='basebldg', expression=\"1\",\n",
    "                                expression_type=\"PYTHON3\")\n",
    "\n",
    "# message\n",
    "print('{} \"{}\" parcels were selected.\\n{} parcels remain...'.format(count_type, tag, count_remaining))"
   ]
  },
  {
   "cell_type": "markdown",
   "metadata": {},
   "source": [
    "## Merge the residential parcels back to together and format/process using pandas"
   ]
  },
  {
   "cell_type": "code",
   "execution_count": 17,
   "metadata": {
    "ExecuteTime": {
     "end_time": "2021-09-03T18:57:27.049735Z",
     "start_time": "2021-09-03T18:57:00.662313Z"
    }
   },
   "outputs": [],
   "source": [
    "# create paths\n",
    "res_files = ['_02_pud', '_02_single_family', '_02_mobile_home_park', '_02_multi_family', '_02_multi_family2']\n",
    "res_files = [os.path.join(gdb, res_file) for res_file in res_files]\n",
    "\n",
    "# merge features\n",
    "rf_merged = arcpy.Merge_management(res_files, os.path.join(scratch, '_10_Housing_Unit_Inventory'), add_source='ADD_SOURCE_INFO')\n",
    "\n",
    "#-----------------------------\n",
    "# add cities as an attribute\n",
    "#-----------------------------\n",
    "cities = r'.\\Inputs\\Cities.shp' \n",
    "target_features = rf_merged\n",
    "join_features = cities\n",
    "output_features = os.path.join(scratch, '_10b_Housing_Unit_Inventory_City')\n",
    "rf_merged = arcpy.SpatialJoin_analysis(target_features, join_features, output_features,'JOIN_ONE_TO_ONE', \"KEEP_ALL\", \n",
    "                           match_option=\"HAVE_THEIR_CENTER_IN\")\n",
    "\n",
    "#---------------------------------\n",
    "# add subcounties as an attribute\n",
    "#---------------------------------\n",
    "subcounties = r'.\\Inputs\\SubCountyArea_2019.shp' \n",
    "target_features = rf_merged\n",
    "join_features = subcounties\n",
    "output_features = os.path.join(scratch, '_10c_Housing_Unit_Inventory_SubCounty')\n",
    "rf_merged = arcpy.SpatialJoin_analysis(target_features, join_features, output_features,'JOIN_ONE_TO_ONE', \"KEEP_ALL\", \n",
    "                           match_option=\"HAVE_THEIR_CENTER_IN\")\n",
    "\n",
    "# convert to dataframe and export\n",
    "rf_merged_df = pd.DataFrame.spatial.from_featureclass(rf_merged)\n",
    "\n",
    "rf_merged_df = rf_merged_df.rename(columns={\"ap_count\": \"ADDR_CNT\"})\n",
    "rf_merged_df = rf_merged_df.rename(columns={\"NAME\": \"CITY\"})\n",
    "rf_merged_df = rf_merged_df.rename(columns={\"NewSA\": \"SUBREGION\"})\n",
    "rf_merged_df = rf_merged_df.rename(columns={\"parcel_count\": \"PARCEL_COUNT\"})"
   ]
  },
  {
   "cell_type": "code",
   "execution_count": 18,
   "metadata": {
    "ExecuteTime": {
     "end_time": "2021-09-03T18:57:27.411541Z",
     "start_time": "2021-09-03T18:57:27.050735Z"
    }
   },
   "outputs": [],
   "source": [
    "# calc note column using property class\n",
    "rf_merged_df.loc[(rf_merged_df['NOTE'].isnull() == True ), 'NOTE'] = rf_merged_df['des_all']\n",
    "\n",
    "# convert unit count columns to int\n",
    "rf_merged_df.loc[(rf_merged_df['HOUSE_CNT'].isnull() == True ), 'HOUSE_CNT'] = 0\n",
    "rf_merged_df['HOUSE_CNT'] = rf_merged_df['HOUSE_CNT'].astype(int)\n",
    "rf_merged_df.loc[(rf_merged_df['ADDR_CNT'].isnull() == True ), 'ADDR_CNT'] = 0\n",
    "rf_merged_df['ADDR_CNT'] = rf_merged_df['ADDR_CNT'].astype(int)\n",
    "\n",
    "# create new count field and calculate\n",
    "rf_merged_df['UNIT_COUNT'] = rf_merged_df['ADDR_CNT']\n",
    "\n",
    "rf_merged_df.loc[(rf_merged_df['SUBTYPE_WFRC'] == 'apartment' ), 'UNIT_COUNT'] = rf_merged_df['HOUSE_CNT']\n",
    "\n",
    "# fix single family (non-pud)\n",
    "rf_merged_df.loc[(rf_merged_df['UNIT_COUNT'] == 0) & \n",
    "                 (rf_merged_df['SUBTYPE_WFRC'] == 'single_family'), \n",
    "                 'UNIT_COUNT'] = 1\n",
    "\n",
    "# fix duplex\n",
    "rf_merged_df.loc[(rf_merged_df['SUBTYPE_WFRC'] == 'duplex'), 'UNIT_COUNT'] = 2\n",
    "\n",
    "# fix triplex-quadplex\n",
    "rf_merged_df.loc[(rf_merged_df['UNIT_COUNT'] < rf_merged_df['HOUSE_CNT']) & \n",
    "                 (rf_merged_df['SUBTYPE_WFRC'] == 'triplex-quadplex'), \n",
    "                 'UNIT_COUNT'] = rf_merged_df['HOUSE_CNT']\n",
    "\n",
    "# # zero out non-ougs\n",
    "# rf_merged_df.loc[(rf_merged_df['IS_OUG'].isnull() == True), 'IS_OUG'] = 0\n",
    "\n",
    "# calculate the decade\n",
    "rf_merged_df['BUILT_DECADE'] = 'NA'\n",
    "rf_merged_df.loc[(rf_merged_df['BUILT_YR'] >= 1840) & (rf_merged_df['BUILT_YR'] < 1850), 'BUILT_DECADE'] = \"1840's\"\n",
    "rf_merged_df.loc[(rf_merged_df['BUILT_YR'] >= 1850) & (rf_merged_df['BUILT_YR'] < 1860), 'BUILT_DECADE'] = \"1850's\"\n",
    "rf_merged_df.loc[(rf_merged_df['BUILT_YR'] >= 1860) & (rf_merged_df['BUILT_YR'] < 1870), 'BUILT_DECADE'] = \"1860's\"\n",
    "rf_merged_df.loc[(rf_merged_df['BUILT_YR'] >= 1870) & (rf_merged_df['BUILT_YR'] < 1880), 'BUILT_DECADE'] = \"1870's\"\n",
    "rf_merged_df.loc[(rf_merged_df['BUILT_YR'] >= 1880) & (rf_merged_df['BUILT_YR'] < 1890), 'BUILT_DECADE'] = \"1880's\"\n",
    "rf_merged_df.loc[(rf_merged_df['BUILT_YR'] >= 1890) & (rf_merged_df['BUILT_YR'] < 1900), 'BUILT_DECADE'] = \"1890's\"\n",
    "rf_merged_df.loc[(rf_merged_df['BUILT_YR'] >= 1900) & (rf_merged_df['BUILT_YR'] < 1910), 'BUILT_DECADE'] = \"1900's\"\n",
    "rf_merged_df.loc[(rf_merged_df['BUILT_YR'] >= 1910) & (rf_merged_df['BUILT_YR'] < 1920), 'BUILT_DECADE'] = \"1910's\"\n",
    "rf_merged_df.loc[(rf_merged_df['BUILT_YR'] >= 1920) & (rf_merged_df['BUILT_YR'] < 1930), 'BUILT_DECADE'] = \"1920's\"\n",
    "rf_merged_df.loc[(rf_merged_df['BUILT_YR'] >= 1930) & (rf_merged_df['BUILT_YR'] < 1940), 'BUILT_DECADE'] = \"1930's\"\n",
    "rf_merged_df.loc[(rf_merged_df['BUILT_YR'] >= 1940) & (rf_merged_df['BUILT_YR'] < 1950), 'BUILT_DECADE'] = \"1940's\"\n",
    "rf_merged_df.loc[(rf_merged_df['BUILT_YR'] >= 1950) & (rf_merged_df['BUILT_YR'] < 1960), 'BUILT_DECADE'] = \"1950's\"\n",
    "rf_merged_df.loc[(rf_merged_df['BUILT_YR'] >= 1960) & (rf_merged_df['BUILT_YR'] < 1970), 'BUILT_DECADE'] = \"1960's\"\n",
    "rf_merged_df.loc[(rf_merged_df['BUILT_YR'] >= 1970) & (rf_merged_df['BUILT_YR'] < 1980), 'BUILT_DECADE'] = \"1970's\"\n",
    "rf_merged_df.loc[(rf_merged_df['BUILT_YR'] >= 1980) & (rf_merged_df['BUILT_YR'] < 1990), 'BUILT_DECADE'] = \"1980's\"\n",
    "rf_merged_df.loc[(rf_merged_df['BUILT_YR'] >= 1990) & (rf_merged_df['BUILT_YR'] < 2000), 'BUILT_DECADE'] = \"1990's\"\n",
    "rf_merged_df.loc[(rf_merged_df['BUILT_YR'] >= 2000) & (rf_merged_df['BUILT_YR'] < 2010), 'BUILT_DECADE'] = \"2000's\"\n",
    "rf_merged_df.loc[(rf_merged_df['BUILT_YR'] >= 2010) & (rf_merged_df['BUILT_YR'] < 2020), 'BUILT_DECADE'] = \"2010's\"\n",
    "rf_merged_df.loc[(rf_merged_df['BUILT_YR'] >= 2020) & (rf_merged_df['BUILT_YR'] < 2030), 'BUILT_DECADE'] = \"2020's\"\n",
    "\n",
    "# add county\n",
    "rf_merged_df['COUNTY'] = 'DAVIS'\n",
    "\n",
    "# remove data points with zero units\n",
    "rf_merged_df = rf_merged_df[~((rf_merged_df['UNIT_COUNT'] == 0) & (rf_merged_df['HOUSE_CNT'] == 0))].copy()\n",
    "\n",
    "# flag parcels with a large descrepancy between house count and unit count\n",
    "rf_merged_df['FLAG'] = 0\n",
    "rf_merged_df.loc[((rf_merged_df['UNIT_COUNT'] / rf_merged_df['ADDR_CNT']) > 1.2) | \n",
    "                  ((rf_merged_df['UNIT_COUNT'] / rf_merged_df['ADDR_CNT']) < 0.8), 'FLAG'] = 1\n",
    "\n",
    "# calc Dwelling units per acre\n",
    "rf_merged_df['PARCEL_ACRES'] = rf_merged_df['PARCEL_ACRES'].astype(float)\n",
    "rf_merged_df['DUA'] = (rf_merged_df['UNIT_COUNT'] / rf_merged_df['PARCEL_ACRES']).round(3)"
   ]
  },
  {
   "cell_type": "code",
   "execution_count": 19,
   "metadata": {
    "ExecuteTime": {
     "end_time": "2021-09-03T18:57:27.474658Z",
     "start_time": "2021-09-03T18:57:27.412944Z"
    }
   },
   "outputs": [],
   "source": [
    "# Final ordering and subsetting of fields\n",
    "rf_merged_df = rf_merged_df[['OBJECTID','PARCEL_ID','TYPE_WFRC','SUBTYPE_WFRC','NOTE','IS_OUG','CITY','SUBREGION','COUNTY', \n",
    "                             'HOUSE_CNT','ADDR_CNT','UNIT_COUNT','PARCEL_COUNT','FLAG','DUA','FLOORS_CNT',\n",
    "                             'PARCEL_ACRES','BLDG_SQFT','TOTAL_MKT_VALUE','BUILT_YR','BUILT_DECADE','SHAPE']].copy()"
   ]
  },
  {
   "cell_type": "code",
   "execution_count": 20,
   "metadata": {
    "ExecuteTime": {
     "end_time": "2021-09-03T18:58:15.790011Z",
     "start_time": "2021-09-03T18:57:27.478683Z"
    }
   },
   "outputs": [],
   "source": [
    "# export to feature class\n",
    "rf_merged_df.spatial.to_featureclass(location=os.path.join(gdb, '_04_davis_housing_unit_inventory'),sanitize_columns=False)\n",
    "\n",
    "# export the final table\n",
    "del rf_merged_df['SHAPE']\n",
    "rf_merged_df.to_csv(os.path.join(outputs, 'davis_housing_unit_inventory.csv'), index=False)"
   ]
  }
 ],
 "metadata": {
  "kernelspec": {
   "display_name": "ArcGISPro",
   "language": "Python",
   "name": "python3"
  },
  "language_info": {
   "file_extension": ".py",
   "name": "python",
   "version": "3"
  },
  "varInspector": {
   "cols": {
    "lenName": 16,
    "lenType": 16,
    "lenVar": 40
   },
   "kernels_config": {
    "python": {
     "delete_cmd_postfix": "",
     "delete_cmd_prefix": "del ",
     "library": "var_list.py",
     "varRefreshCmd": "print(var_dic_list())"
    },
    "r": {
     "delete_cmd_postfix": ") ",
     "delete_cmd_prefix": "rm(",
     "library": "var_list.r",
     "varRefreshCmd": "cat(var_dic_list()) "
    }
   },
   "types_to_exclude": [
    "module",
    "function",
    "builtin_function_or_method",
    "instance",
    "_Feature"
   ],
   "window_display": false
  }
 },
 "nbformat": 4,
 "nbformat_minor": 4
}

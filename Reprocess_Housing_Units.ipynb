{
 "cells": [
  {
   "cell_type": "code",
   "execution_count": 1,
   "metadata": {},
   "outputs": [],
   "source": [
    "import arcpy\n",
    "from datetime import datetime\n",
    "import os\n",
    "import pandas as pd\n",
    "from arcgis import GIS\n",
    "import numpy as np\n",
    "from arcgis.features import GeoAccessor, GeoSeriesAccessor\n",
    "arcpy.env.overwriteOutput = True\n",
    "\n",
    "# show all columns\n",
    "pd.options.display.max_columns = None\n",
    "\n",
    "# pd.DataFrame.spatial.from_featureclass(???)\n",
    "# df.spatial.to_featureclass(location=???,sanitize_columns=False)"
   ]
  },
  {
   "cell_type": "code",
   "execution_count": 2,
   "metadata": {},
   "outputs": [],
   "source": [
    "# path output folder\n",
    "outputs = '.\\\\Outputs'"
   ]
  },
  {
   "cell_type": "code",
   "execution_count": 6,
   "metadata": {},
   "outputs": [
    {
     "data": {
      "text/plain": [
       "Index(['OBJECTID', 'PARCEL_ID', 'TYPE_WFRC', 'SUBTYPE_WFRC', 'NOTE', 'IS_OUG',\n",
       "       'CITY', 'SUBREGION', 'COUNTY', 'HOUSE_CNT', 'ADDR_CNT', 'UNIT_COUNT',\n",
       "       'PARCEL_COUNT', 'FLAG', 'DUA', 'FLOORS_CNT', 'PARCEL_ACRES',\n",
       "       'BLDG_SQFT', 'TOTAL_MKT_VALUE', 'BUILT_YR', 'BUILT_DECADE', 'UNIT_ID',\n",
       "       'ADJUSTED', 'REVIEWED', 'SHAPE'],\n",
       "      dtype='object')"
      ]
     },
     "execution_count": 6,
     "metadata": {},
     "output_type": "execute_result"
    }
   ],
   "source": [
    "# load data\n",
    "hui = r\"E:\\Projects\\Housing-Unit-Inventory\\Outputs\\wfrc_housing_unit_inventory_20210910.gdb\\wfrc_housing_unit_inventory\"\n",
    "hui_sdf = pd.DataFrame.spatial.from_featureclass(hui)\n",
    "hui_sdf.columns"
   ]
  },
  {
   "cell_type": "code",
   "execution_count": 14,
   "metadata": {},
   "outputs": [],
   "source": [
    "hui_sdf.loc[(hui_sdf['REVIEWED'] != 1) & (hui_sdf['IS_OUG'] != 1) & (hui_sdf['ADDR_CNT'] > 3), \n",
    "            'UNIT_COUNT'] = hui_sdf['ADDR_CNT']"
   ]
  },
  {
   "cell_type": "code",
   "execution_count": 17,
   "metadata": {},
   "outputs": [
    {
     "data": {
      "text/plain": [
       "'E:\\\\Projects\\\\Housing-Unit-Inventory\\\\Outputs\\\\wfrc_housing_unit_inventory_20210914.gdb\\\\wfrc_housing_unit_inventory'"
      ]
     },
     "execution_count": 17,
     "metadata": {},
     "output_type": "execute_result"
    }
   ],
   "source": [
    "# create output gdb\n",
    "date = datetime.today().strftime('%Y%m%d')\n",
    "gdb = os.path.join(outputs, \"wfrc_housing_unit_inventory_{}.gdb\".format(date))\n",
    "if not arcpy.Exists(gdb):\n",
    "    arcpy.CreateFileGDB_management(outputs, \"wfrc_housing_unit_inventory_{}.gdb\".format(date))\n",
    "    \n",
    "hui_sdf.spatial.to_featureclass(location=os.path.join(gdb, 'wfrc_housing_unit_inventory'),sanitize_columns=False)"
   ]
  },
  {
   "cell_type": "code",
   "execution_count": 18,
   "metadata": {},
   "outputs": [],
   "source": [
    "# Export\n",
    "hui_sdf_no_shape = hui_sdf.copy()\n",
    "del hui_sdf_no_shape['SHAPE']\n",
    "hui_sdf_no_shape.to_csv(os.path.join(outputs, 'wfrc_housing_unit_inventory_{}.csv'.format(date)), index=False)"
   ]
  }
 ],
 "metadata": {
  "kernelspec": {
   "display_name": "Python 3",
   "language": "python",
   "name": "python3"
  },
  "language_info": {
   "codemirror_mode": {
    "name": "ipython",
    "version": 3
   },
   "file_extension": ".py",
   "mimetype": "text/x-python",
   "name": "python",
   "nbconvert_exporter": "python",
   "pygments_lexer": "ipython3",
   "version": "3.7.10"
  },
  "varInspector": {
   "cols": {
    "lenName": 16,
    "lenType": 16,
    "lenVar": 40
   },
   "kernels_config": {
    "python": {
     "delete_cmd_postfix": "",
     "delete_cmd_prefix": "del ",
     "library": "var_list.py",
     "varRefreshCmd": "print(var_dic_list())"
    },
    "r": {
     "delete_cmd_postfix": ") ",
     "delete_cmd_prefix": "rm(",
     "library": "var_list.r",
     "varRefreshCmd": "cat(var_dic_list()) "
    }
   },
   "types_to_exclude": [
    "module",
    "function",
    "builtin_function_or_method",
    "instance",
    "_Feature"
   ],
   "window_display": false
  }
 },
 "nbformat": 4,
 "nbformat_minor": 4
}
